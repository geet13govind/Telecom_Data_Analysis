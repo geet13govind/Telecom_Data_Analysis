{
 "cells": [
  {
   "cell_type": "code",
   "execution_count": 1,
   "id": "069f8a8d",
   "metadata": {},
   "outputs": [],
   "source": [
    "# import required libraries\n",
    "import warnings\n",
    "warnings.filterwarnings('ignore')\n",
    "import pandas as pd\n",
    "import numpy as np\n",
    "import matplotlib.pyplot as plt\n",
    "import seaborn as sns\n",
    "import statsmodels.api as sm\n",
    "import scipy.stats as stats\n",
    "sns.set()\n",
    "from sklearn.preprocessing import StandardScaler\n",
    "from sklearn.decomposition import PCA\n",
    "from sklearn.preprocessing import StandardScaler\n",
    "from sklearn import preprocessing\n",
    "from sklearn.cluster import KMeans\n",
    "from sklearn.linear_model import LinearRegression\n",
    "from sklearn.preprocessing import StandardScaler\n",
    "import pickle"
   ]
  },
  {
   "cell_type": "markdown",
   "id": "093f5a16",
   "metadata": {},
   "source": [
    "#Load Data"
   ]
  },
  {
   "cell_type": "code",
   "execution_count": 2,
   "id": "3d36003a",
   "metadata": {},
   "outputs": [],
   "source": [
    "#here we have cleaned data from the prior work of data cleaning and exploration data\n",
    "df = pd.read_csv('cleaned_data.csv')"
   ]
  },
  {
   "cell_type": "code",
   "execution_count": 3,
   "id": "de4189b6",
   "metadata": {},
   "outputs": [
    {
     "data": {
      "text/html": [
       "<div>\n",
       "<style scoped>\n",
       "    .dataframe tbody tr th:only-of-type {\n",
       "        vertical-align: middle;\n",
       "    }\n",
       "\n",
       "    .dataframe tbody tr th {\n",
       "        vertical-align: top;\n",
       "    }\n",
       "\n",
       "    .dataframe thead th {\n",
       "        text-align: right;\n",
       "    }\n",
       "</style>\n",
       "<table border=\"1\" class=\"dataframe\">\n",
       "  <thead>\n",
       "    <tr style=\"text-align: right;\">\n",
       "      <th></th>\n",
       "      <th>Bearer Id</th>\n",
       "      <th>Start</th>\n",
       "      <th>Start ms</th>\n",
       "      <th>End</th>\n",
       "      <th>End ms</th>\n",
       "      <th>Dur. (ms)</th>\n",
       "      <th>IMSI</th>\n",
       "      <th>MSISDN/Number</th>\n",
       "      <th>IMEI</th>\n",
       "      <th>Last Location Name</th>\n",
       "      <th>...</th>\n",
       "      <th>Youtube DL (Bytes)</th>\n",
       "      <th>Youtube UL (Bytes)</th>\n",
       "      <th>Netflix DL (Bytes)</th>\n",
       "      <th>Netflix UL (Bytes)</th>\n",
       "      <th>Gaming DL (Bytes)</th>\n",
       "      <th>Gaming UL (Bytes)</th>\n",
       "      <th>Other DL (Bytes)</th>\n",
       "      <th>Other UL (Bytes)</th>\n",
       "      <th>Total UL (Bytes)</th>\n",
       "      <th>Total DL (Bytes)</th>\n",
       "    </tr>\n",
       "  </thead>\n",
       "  <tbody>\n",
       "    <tr>\n",
       "      <th>0</th>\n",
       "      <td>1.311448e+19</td>\n",
       "      <td>4/4/2019 12:01</td>\n",
       "      <td>770.0</td>\n",
       "      <td>4/25/2019 14:35</td>\n",
       "      <td>662.0</td>\n",
       "      <td>244912.0</td>\n",
       "      <td>2.082014e+14</td>\n",
       "      <td>3.366496e+10</td>\n",
       "      <td>3.552121e+13</td>\n",
       "      <td>9.16456699548519E+015</td>\n",
       "      <td>...</td>\n",
       "      <td>15854611.0</td>\n",
       "      <td>2501332.0</td>\n",
       "      <td>8198936.0</td>\n",
       "      <td>9656251.0</td>\n",
       "      <td>278082303.0</td>\n",
       "      <td>14344150.0</td>\n",
       "      <td>171744450.0</td>\n",
       "      <td>8814393.0</td>\n",
       "      <td>36749741.0</td>\n",
       "      <td>308879636.0</td>\n",
       "    </tr>\n",
       "    <tr>\n",
       "      <th>1</th>\n",
       "      <td>1.311448e+19</td>\n",
       "      <td>4/9/2019 13:04</td>\n",
       "      <td>235.0</td>\n",
       "      <td>4/25/2019 8:15</td>\n",
       "      <td>606.0</td>\n",
       "      <td>244912.0</td>\n",
       "      <td>2.082019e+14</td>\n",
       "      <td>3.368185e+10</td>\n",
       "      <td>3.579401e+13</td>\n",
       "      <td>L77566A</td>\n",
       "      <td>...</td>\n",
       "      <td>20247395.0</td>\n",
       "      <td>19111729.0</td>\n",
       "      <td>18338413.0</td>\n",
       "      <td>17227132.0</td>\n",
       "      <td>608750074.0</td>\n",
       "      <td>1170709.0</td>\n",
       "      <td>526904238.0</td>\n",
       "      <td>15055145.0</td>\n",
       "      <td>53800391.0</td>\n",
       "      <td>653384965.0</td>\n",
       "    </tr>\n",
       "    <tr>\n",
       "      <th>2</th>\n",
       "      <td>1.311448e+19</td>\n",
       "      <td>4/9/2019 17:42</td>\n",
       "      <td>1.0</td>\n",
       "      <td>4/25/2019 11:58</td>\n",
       "      <td>652.0</td>\n",
       "      <td>244912.0</td>\n",
       "      <td>2.082003e+14</td>\n",
       "      <td>3.376063e+10</td>\n",
       "      <td>3.528151e+13</td>\n",
       "      <td>D42335A</td>\n",
       "      <td>...</td>\n",
       "      <td>19725661.0</td>\n",
       "      <td>14699576.0</td>\n",
       "      <td>17587794.0</td>\n",
       "      <td>6163408.0</td>\n",
       "      <td>229584621.0</td>\n",
       "      <td>395630.0</td>\n",
       "      <td>410692588.0</td>\n",
       "      <td>4215763.0</td>\n",
       "      <td>27883638.0</td>\n",
       "      <td>279807335.0</td>\n",
       "    </tr>\n",
       "    <tr>\n",
       "      <th>3</th>\n",
       "      <td>1.311448e+19</td>\n",
       "      <td>4/10/2019 0:31</td>\n",
       "      <td>486.0</td>\n",
       "      <td>4/25/2019 7:36</td>\n",
       "      <td>171.0</td>\n",
       "      <td>244912.0</td>\n",
       "      <td>2.082014e+14</td>\n",
       "      <td>3.375034e+10</td>\n",
       "      <td>3.535661e+13</td>\n",
       "      <td>T21824A</td>\n",
       "      <td>...</td>\n",
       "      <td>21388122.0</td>\n",
       "      <td>15146643.0</td>\n",
       "      <td>13994646.0</td>\n",
       "      <td>1097942.0</td>\n",
       "      <td>799538153.0</td>\n",
       "      <td>10849722.0</td>\n",
       "      <td>749039933.0</td>\n",
       "      <td>12797283.0</td>\n",
       "      <td>43324218.0</td>\n",
       "      <td>846028530.0</td>\n",
       "    </tr>\n",
       "    <tr>\n",
       "      <th>4</th>\n",
       "      <td>1.311448e+19</td>\n",
       "      <td>4/12/2019 20:10</td>\n",
       "      <td>565.0</td>\n",
       "      <td>4/25/2019 10:40</td>\n",
       "      <td>954.0</td>\n",
       "      <td>244912.0</td>\n",
       "      <td>2.082014e+14</td>\n",
       "      <td>3.369980e+10</td>\n",
       "      <td>3.540701e+13</td>\n",
       "      <td>D88865A</td>\n",
       "      <td>...</td>\n",
       "      <td>15259380.0</td>\n",
       "      <td>18962873.0</td>\n",
       "      <td>17124581.0</td>\n",
       "      <td>415218.0</td>\n",
       "      <td>527707248.0</td>\n",
       "      <td>3529801.0</td>\n",
       "      <td>550709500.0</td>\n",
       "      <td>13910322.0</td>\n",
       "      <td>38542814.0</td>\n",
       "      <td>569138589.0</td>\n",
       "    </tr>\n",
       "  </tbody>\n",
       "</table>\n",
       "<p>5 rows × 45 columns</p>\n",
       "</div>"
      ],
      "text/plain": [
       "      Bearer Id            Start  Start ms              End  End ms  \\\n",
       "0  1.311448e+19   4/4/2019 12:01     770.0  4/25/2019 14:35   662.0   \n",
       "1  1.311448e+19   4/9/2019 13:04     235.0   4/25/2019 8:15   606.0   \n",
       "2  1.311448e+19   4/9/2019 17:42       1.0  4/25/2019 11:58   652.0   \n",
       "3  1.311448e+19   4/10/2019 0:31     486.0   4/25/2019 7:36   171.0   \n",
       "4  1.311448e+19  4/12/2019 20:10     565.0  4/25/2019 10:40   954.0   \n",
       "\n",
       "   Dur. (ms)          IMSI  MSISDN/Number          IMEI  \\\n",
       "0   244912.0  2.082014e+14   3.366496e+10  3.552121e+13   \n",
       "1   244912.0  2.082019e+14   3.368185e+10  3.579401e+13   \n",
       "2   244912.0  2.082003e+14   3.376063e+10  3.528151e+13   \n",
       "3   244912.0  2.082014e+14   3.375034e+10  3.535661e+13   \n",
       "4   244912.0  2.082014e+14   3.369980e+10  3.540701e+13   \n",
       "\n",
       "      Last Location Name  ...  Youtube DL (Bytes)  Youtube UL (Bytes)  \\\n",
       "0  9.16456699548519E+015  ...          15854611.0           2501332.0   \n",
       "1                L77566A  ...          20247395.0          19111729.0   \n",
       "2                D42335A  ...          19725661.0          14699576.0   \n",
       "3                T21824A  ...          21388122.0          15146643.0   \n",
       "4                D88865A  ...          15259380.0          18962873.0   \n",
       "\n",
       "   Netflix DL (Bytes)  Netflix UL (Bytes)  Gaming DL (Bytes)  \\\n",
       "0           8198936.0           9656251.0        278082303.0   \n",
       "1          18338413.0          17227132.0        608750074.0   \n",
       "2          17587794.0           6163408.0        229584621.0   \n",
       "3          13994646.0           1097942.0        799538153.0   \n",
       "4          17124581.0            415218.0        527707248.0   \n",
       "\n",
       "   Gaming UL (Bytes)  Other DL (Bytes)  Other UL (Bytes)  Total UL (Bytes)  \\\n",
       "0         14344150.0       171744450.0         8814393.0        36749741.0   \n",
       "1          1170709.0       526904238.0        15055145.0        53800391.0   \n",
       "2           395630.0       410692588.0         4215763.0        27883638.0   \n",
       "3         10849722.0       749039933.0        12797283.0        43324218.0   \n",
       "4          3529801.0       550709500.0        13910322.0        38542814.0   \n",
       "\n",
       "   Total DL (Bytes)  \n",
       "0       308879636.0  \n",
       "1       653384965.0  \n",
       "2       279807335.0  \n",
       "3       846028530.0  \n",
       "4       569138589.0  \n",
       "\n",
       "[5 rows x 45 columns]"
      ]
     },
     "execution_count": 3,
     "metadata": {},
     "output_type": "execute_result"
    }
   ],
   "source": [
    "df.head()"
   ]
  },
  {
   "cell_type": "code",
   "execution_count": 4,
   "id": "cadebba5",
   "metadata": {},
   "outputs": [
    {
     "data": {
      "text/plain": [
       "['Bearer Id',\n",
       " 'Start',\n",
       " 'Start ms',\n",
       " 'End',\n",
       " 'End ms',\n",
       " 'Dur. (ms)',\n",
       " 'IMSI',\n",
       " 'MSISDN/Number',\n",
       " 'IMEI',\n",
       " 'Last Location Name',\n",
       " 'Avg RTT DL (ms)',\n",
       " 'Avg RTT UL (ms)',\n",
       " 'Avg Bearer TP DL (kbps)',\n",
       " 'Avg Bearer TP UL (kbps)',\n",
       " 'DL TP < 50 Kbps (%)',\n",
       " '50 Kbps < DL TP < 250 Kbps (%)',\n",
       " '250 Kbps < DL TP < 1 Mbps (%)',\n",
       " 'DL TP > 1 Mbps (%)',\n",
       " 'UL TP < 10 Kbps (%)',\n",
       " '10 Kbps < UL TP < 50 Kbps (%)',\n",
       " '50 Kbps < UL TP < 300 Kbps (%)',\n",
       " 'UL TP > 300 Kbps (%)',\n",
       " 'Activity Duration DL (ms)',\n",
       " 'Activity Duration UL (ms)',\n",
       " 'Dur. (ms).1',\n",
       " 'Handset Manufacturer',\n",
       " 'Handset Type',\n",
       " 'Nb of sec with Vol DL < 6250B',\n",
       " 'Nb of sec with Vol UL < 1250B',\n",
       " 'Social Media DL (Bytes)',\n",
       " 'Social Media UL (Bytes)',\n",
       " 'Google DL (Bytes)',\n",
       " 'Google UL (Bytes)',\n",
       " 'Email DL (Bytes)',\n",
       " 'Email UL (Bytes)',\n",
       " 'Youtube DL (Bytes)',\n",
       " 'Youtube UL (Bytes)',\n",
       " 'Netflix DL (Bytes)',\n",
       " 'Netflix UL (Bytes)',\n",
       " 'Gaming DL (Bytes)',\n",
       " 'Gaming UL (Bytes)',\n",
       " 'Other DL (Bytes)',\n",
       " 'Other UL (Bytes)',\n",
       " 'Total UL (Bytes)',\n",
       " 'Total DL (Bytes)']"
      ]
     },
     "execution_count": 4,
     "metadata": {},
     "output_type": "execute_result"
    }
   ],
   "source": [
    "# column names\n",
    "#list(df.columns)\n",
    "df.columns.tolist()"
   ]
  },
  {
   "cell_type": "code",
   "execution_count": 5,
   "id": "2a9f714e",
   "metadata": {},
   "outputs": [
    {
     "name": "stdout",
     "output_type": "stream",
     "text": [
      " There are 150001 rows and 45 columns\n"
     ]
    }
   ],
   "source": [
    "# number of data points\n",
    "#df.shape\n",
    "print(f\" There are {df.shape[0]} rows and {df.shape[1]} columns\")"
   ]
  },
  {
   "cell_type": "code",
   "execution_count": 6,
   "id": "e9a9f662",
   "metadata": {},
   "outputs": [],
   "source": [
    "###################################PLOTTING FUNCTIONS For User Analytics on Telcom###################################\n",
    "\n",
    "def plot_hist(df:pd.DataFrame, column:str, color:str)->None:\n",
    "    # plt.figure(figsize=(15, 10))\n",
    "    # fig, ax = plt.subplots(1, figsize=(12, 7))\n",
    "    sns.displot(data=df, x=column, color=color, kde=True, height=7, aspect=2)\n",
    "    plt.title(f'Distribution of {column}', size=20, fontweight='bold')\n",
    "    plt.show()\n",
    "\n",
    "def plot_count(df:pd.DataFrame, column:str) -> None:\n",
    "    plt.figure(figsize=(12, 7))\n",
    "    sns.countplot(data=df, x=column)\n",
    "    plt.title(f'Distribution of {column}', size=20, fontweight='bold')\n",
    "    plt.show()\n",
    "    \n",
    "def plot_bar(df:pd.DataFrame, x_col:str, y_col:str, title:str, xlabel:str, ylabel:str)->None:\n",
    "    plt.figure(figsize=(12, 7))\n",
    "    sns.barplot(data = df, x=x_col, y=y_col)\n",
    "    plt.title(title, size=20)\n",
    "    plt.xticks(rotation=75, fontsize=14)\n",
    "    plt.yticks( fontsize=14)\n",
    "    plt.xlabel(xlabel, fontsize=16)\n",
    "    plt.ylabel(ylabel, fontsize=16)\n",
    "    plt.show()\n",
    "\n",
    "def plot_heatmap(df:pd.DataFrame, title:str, cbar=False)->None:\n",
    "    plt.figure(figsize=(12, 7))\n",
    "    sns.heatmap(df, annot=True, cmap='viridis', vmin=0, vmax=1, fmt='.2f', linewidths=.7, cbar=cbar )\n",
    "    plt.title(title, size=18, fontweight='bold')\n",
    "    plt.show()\n",
    "\n",
    "def plot_box(df:pd.DataFrame, x_col:str, title:str) -> None:\n",
    "    plt.figure(figsize=(12, 7))\n",
    "    sns.boxplot(data = df, x=x_col)\n",
    "    plt.title(title, size=20)\n",
    "    plt.xticks(rotation=75, fontsize=14)\n",
    "    plt.show()\n",
    "\n",
    "def plot_box_multi(df:pd.DataFrame, x_col:str, y_col:str, title:str) -> None:\n",
    "    plt.figure(figsize=(12, 7))\n",
    "    sns.boxplot(data = df, x=x_col, y=y_col)\n",
    "    plt.title(title, size=20)\n",
    "    plt.xticks(rotation=75, fontsize=14)\n",
    "    plt.yticks( fontsize=14)\n",
    "    plt.show()\n",
    "\n",
    "def plot_scatter(df: pd.DataFrame, x_col: str, y_col: str, title: str, hue: str, style: str) -> None:\n",
    "    plt.figure(figsize=(12, 7))\n",
    "    sns.scatterplot(data = df, x=x_col, y=y_col, hue=hue)\n",
    "    plt.title(title, size=20)\n",
    "    plt.xticks(fontsize=14)\n",
    "    plt.yticks( fontsize=14)\n",
    "    plt.show()\n",
    "\n",
    "def format_float(value):\n",
    "    return f'{value:,.2f}'\n",
    "\n",
    "def fix_outlier(df, column):\n",
    "    df[column] = np.where(df[column] > df[column].quantile(0.95), df[column].median(),df[column])\n",
    "    \n",
    "    return df[column]\n",
    "\n",
    "\n",
    "pd.options.display.float_format = format_float"
   ]
  },
  {
   "cell_type": "markdown",
   "id": "1caa6af9",
   "metadata": {},
   "source": [
    "# Task 1:"
   ]
  },
  {
   "cell_type": "markdown",
   "id": "4abbc3c4",
   "metadata": {},
   "source": [
    "#### Top 10 handsets used by the customers"
   ]
  },
  {
   "cell_type": "code",
   "execution_count": 7,
   "id": "fec7b9a8",
   "metadata": {},
   "outputs": [
    {
     "data": {
      "text/html": [
       "<div>\n",
       "<style scoped>\n",
       "    .dataframe tbody tr th:only-of-type {\n",
       "        vertical-align: middle;\n",
       "    }\n",
       "\n",
       "    .dataframe tbody tr th {\n",
       "        vertical-align: top;\n",
       "    }\n",
       "\n",
       "    .dataframe thead th {\n",
       "        text-align: right;\n",
       "    }\n",
       "</style>\n",
       "<table border=\"1\" class=\"dataframe\">\n",
       "  <thead>\n",
       "    <tr style=\"text-align: right;\">\n",
       "      <th></th>\n",
       "      <th>Handset Type</th>\n",
       "      <th>Total</th>\n",
       "    </tr>\n",
       "  </thead>\n",
       "  <tbody>\n",
       "    <tr>\n",
       "      <th>316</th>\n",
       "      <td>Huawei B528S-23A</td>\n",
       "      <td>10641</td>\n",
       "    </tr>\n",
       "    <tr>\n",
       "      <th>53</th>\n",
       "      <td>Apple iPhone 6S (A1688)</td>\n",
       "      <td>6765</td>\n",
       "    </tr>\n",
       "    <tr>\n",
       "      <th>1395</th>\n",
       "      <td>undefined</td>\n",
       "      <td>6716</td>\n",
       "    </tr>\n",
       "    <tr>\n",
       "      <th>49</th>\n",
       "      <td>Apple iPhone 6 (A1586)</td>\n",
       "      <td>6271</td>\n",
       "    </tr>\n",
       "    <tr>\n",
       "      <th>59</th>\n",
       "      <td>Apple iPhone 7 (A1778)</td>\n",
       "      <td>4721</td>\n",
       "    </tr>\n",
       "    <tr>\n",
       "      <th>73</th>\n",
       "      <td>Apple iPhone Se (A1723)</td>\n",
       "      <td>3764</td>\n",
       "    </tr>\n",
       "    <tr>\n",
       "      <th>66</th>\n",
       "      <td>Apple iPhone 8 (A1905)</td>\n",
       "      <td>3550</td>\n",
       "    </tr>\n",
       "    <tr>\n",
       "      <th>955</th>\n",
       "      <td>Samsung Galaxy S8 (Sm-G950F)</td>\n",
       "      <td>3275</td>\n",
       "    </tr>\n",
       "    <tr>\n",
       "      <th>78</th>\n",
       "      <td>Apple iPhone Xr (A2105)</td>\n",
       "      <td>3077</td>\n",
       "    </tr>\n",
       "    <tr>\n",
       "      <th>888</th>\n",
       "      <td>Samsung Galaxy J5 (Sm-J530)</td>\n",
       "      <td>2760</td>\n",
       "    </tr>\n",
       "  </tbody>\n",
       "</table>\n",
       "</div>"
      ],
      "text/plain": [
       "                      Handset Type  Total\n",
       "316               Huawei B528S-23A  10641\n",
       "53         Apple iPhone 6S (A1688)   6765\n",
       "1395                     undefined   6716\n",
       "49          Apple iPhone 6 (A1586)   6271\n",
       "59          Apple iPhone 7 (A1778)   4721\n",
       "73         Apple iPhone Se (A1723)   3764\n",
       "66          Apple iPhone 8 (A1905)   3550\n",
       "955   Samsung Galaxy S8 (Sm-G950F)   3275\n",
       "78         Apple iPhone Xr (A2105)   3077\n",
       "888    Samsung Galaxy J5 (Sm-J530)   2760"
      ]
     },
     "execution_count": 7,
     "metadata": {},
     "output_type": "execute_result"
    }
   ],
   "source": [
    "# The top 10 handsets used by the customers\n",
    "top10_handsets_customers = df[['Handset Type','IMSI']].groupby(['Handset Type'])\n",
    "#top10 = data.sort_values(['Handset Type','IMSI'], ascending=False).groupby('Handset Type')\n",
    "top10_handsets_customers = top10_handsets_customers['IMSI'].nunique()\n",
    "top10_handsets_customers = top10_handsets_customers.reset_index(name='Total')\n",
    "top10_handsets_customers = top10_handsets_customers.sort_values(['Total'], ascending=False)\n",
    "top10_handsets_customers.head(10)"
   ]
  },
  {
   "cell_type": "markdown",
   "id": "db2e3854",
   "metadata": {},
   "source": [
    "#### top 3 handset manufacturers"
   ]
  },
  {
   "cell_type": "code",
   "execution_count": 8,
   "id": "feeccc43",
   "metadata": {},
   "outputs": [
    {
     "data": {
      "text/html": [
       "<div>\n",
       "<style scoped>\n",
       "    .dataframe tbody tr th:only-of-type {\n",
       "        vertical-align: middle;\n",
       "    }\n",
       "\n",
       "    .dataframe tbody tr th {\n",
       "        vertical-align: top;\n",
       "    }\n",
       "\n",
       "    .dataframe thead th {\n",
       "        text-align: right;\n",
       "    }\n",
       "</style>\n",
       "<table border=\"1\" class=\"dataframe\">\n",
       "  <thead>\n",
       "    <tr style=\"text-align: right;\">\n",
       "      <th></th>\n",
       "      <th>Handset Manufacturer</th>\n",
       "      <th>IMSI</th>\n",
       "    </tr>\n",
       "  </thead>\n",
       "  <tbody>\n",
       "    <tr>\n",
       "      <th>0</th>\n",
       "      <td>Apple</td>\n",
       "      <td>42687</td>\n",
       "    </tr>\n",
       "    <tr>\n",
       "      <th>1</th>\n",
       "      <td>Samsung</td>\n",
       "      <td>30980</td>\n",
       "    </tr>\n",
       "    <tr>\n",
       "      <th>2</th>\n",
       "      <td>Huawei</td>\n",
       "      <td>21742</td>\n",
       "    </tr>\n",
       "  </tbody>\n",
       "</table>\n",
       "</div>"
      ],
      "text/plain": [
       "  Handset Manufacturer   IMSI\n",
       "0                Apple  42687\n",
       "1              Samsung  30980\n",
       "2               Huawei  21742"
      ]
     },
     "execution_count": 8,
     "metadata": {},
     "output_type": "execute_result"
    }
   ],
   "source": [
    "# top 3 handset manufacturers\n",
    "top3_handset_manufacturers = df[['Handset Manufacturer','IMSI']].groupby(['Handset Manufacturer'])\n",
    "top3_handset_manufacturers = top3_handset_manufacturers['IMSI'].nunique().nlargest(3).reset_index()\n",
    "top3_handset_manufacturers"
   ]
  },
  {
   "cell_type": "markdown",
   "id": "2a8adfb2",
   "metadata": {},
   "source": [
    "#### top 5 handsets per top 3 handset manufacturer"
   ]
  },
  {
   "cell_type": "markdown",
   "id": "f87eebd9",
   "metadata": {},
   "source": [
    "#### top 5 handset manfacturer for Apple"
   ]
  },
  {
   "cell_type": "code",
   "execution_count": 9,
   "id": "5ffb1e51",
   "metadata": {},
   "outputs": [
    {
     "data": {
      "text/html": [
       "<div>\n",
       "<style scoped>\n",
       "    .dataframe tbody tr th:only-of-type {\n",
       "        vertical-align: middle;\n",
       "    }\n",
       "\n",
       "    .dataframe tbody tr th {\n",
       "        vertical-align: top;\n",
       "    }\n",
       "\n",
       "    .dataframe thead th {\n",
       "        text-align: right;\n",
       "    }\n",
       "</style>\n",
       "<table border=\"1\" class=\"dataframe\">\n",
       "  <thead>\n",
       "    <tr style=\"text-align: right;\">\n",
       "      <th></th>\n",
       "      <th>Handset Type</th>\n",
       "      <th>IMSI</th>\n",
       "    </tr>\n",
       "  </thead>\n",
       "  <tbody>\n",
       "    <tr>\n",
       "      <th>0</th>\n",
       "      <td>Apple iPhone 6S (A1688)</td>\n",
       "      <td>6765</td>\n",
       "    </tr>\n",
       "    <tr>\n",
       "      <th>1</th>\n",
       "      <td>Apple iPhone 6 (A1586)</td>\n",
       "      <td>6271</td>\n",
       "    </tr>\n",
       "    <tr>\n",
       "      <th>2</th>\n",
       "      <td>Apple iPhone 7 (A1778)</td>\n",
       "      <td>4721</td>\n",
       "    </tr>\n",
       "    <tr>\n",
       "      <th>3</th>\n",
       "      <td>Apple iPhone Se (A1723)</td>\n",
       "      <td>3764</td>\n",
       "    </tr>\n",
       "    <tr>\n",
       "      <th>4</th>\n",
       "      <td>Apple iPhone 8 (A1905)</td>\n",
       "      <td>3550</td>\n",
       "    </tr>\n",
       "  </tbody>\n",
       "</table>\n",
       "</div>"
      ],
      "text/plain": [
       "              Handset Type  IMSI\n",
       "0  Apple iPhone 6S (A1688)  6765\n",
       "1   Apple iPhone 6 (A1586)  6271\n",
       "2   Apple iPhone 7 (A1778)  4721\n",
       "3  Apple iPhone Se (A1723)  3764\n",
       "4   Apple iPhone 8 (A1905)  3550"
      ]
     },
     "execution_count": 9,
     "metadata": {},
     "output_type": "execute_result"
    }
   ],
   "source": [
    "# top 5 handset manfacturer for Apple\n",
    "Apple_handsets = df[df['Handset Manufacturer']=='Apple']\n",
    "Apple_handsets = Apple_handsets.groupby(['Handset Type'])['IMSI']\n",
    "Apple_handsets = Apple_handsets.nunique().nlargest(5).reset_index()\n",
    "Apple_handsets"
   ]
  },
  {
   "cell_type": "markdown",
   "id": "1c3872b3",
   "metadata": {},
   "source": [
    "#### top 5 handset manfacturer for Huawei"
   ]
  },
  {
   "cell_type": "code",
   "execution_count": 10,
   "id": "28e48e51",
   "metadata": {},
   "outputs": [
    {
     "data": {
      "text/html": [
       "<div>\n",
       "<style scoped>\n",
       "    .dataframe tbody tr th:only-of-type {\n",
       "        vertical-align: middle;\n",
       "    }\n",
       "\n",
       "    .dataframe tbody tr th {\n",
       "        vertical-align: top;\n",
       "    }\n",
       "\n",
       "    .dataframe thead th {\n",
       "        text-align: right;\n",
       "    }\n",
       "</style>\n",
       "<table border=\"1\" class=\"dataframe\">\n",
       "  <thead>\n",
       "    <tr style=\"text-align: right;\">\n",
       "      <th></th>\n",
       "      <th>Handset Type</th>\n",
       "      <th>IMSI</th>\n",
       "    </tr>\n",
       "  </thead>\n",
       "  <tbody>\n",
       "    <tr>\n",
       "      <th>0</th>\n",
       "      <td>Huawei B528S-23A</td>\n",
       "      <td>10638</td>\n",
       "    </tr>\n",
       "    <tr>\n",
       "      <th>1</th>\n",
       "      <td>Huawei P20 Lite Huawei Nova 3E</td>\n",
       "      <td>1534</td>\n",
       "    </tr>\n",
       "    <tr>\n",
       "      <th>2</th>\n",
       "      <td>Huawei E5180</td>\n",
       "      <td>1185</td>\n",
       "    </tr>\n",
       "    <tr>\n",
       "      <th>3</th>\n",
       "      <td>Huawei P20</td>\n",
       "      <td>1110</td>\n",
       "    </tr>\n",
       "    <tr>\n",
       "      <th>4</th>\n",
       "      <td>Huawei Y6 2018</td>\n",
       "      <td>757</td>\n",
       "    </tr>\n",
       "  </tbody>\n",
       "</table>\n",
       "</div>"
      ],
      "text/plain": [
       "                     Handset Type   IMSI\n",
       "0                Huawei B528S-23A  10638\n",
       "1  Huawei P20 Lite Huawei Nova 3E   1534\n",
       "2                    Huawei E5180   1185\n",
       "3                      Huawei P20   1110\n",
       "4                  Huawei Y6 2018    757"
      ]
     },
     "execution_count": 10,
     "metadata": {},
     "output_type": "execute_result"
    }
   ],
   "source": [
    "# top 5 handset manfacturer for Huawei\n",
    "Huawei_handsets = df[df['Handset Manufacturer']=='Huawei']\n",
    "Huawei_handsets = Huawei_handsets.groupby(['Handset Type'])['IMSI']\n",
    "Huawei_handsets = Huawei_handsets.nunique().nlargest(5).reset_index()\n",
    "Huawei_handsets"
   ]
  },
  {
   "cell_type": "markdown",
   "id": "860f10ab",
   "metadata": {},
   "source": [
    "#### top 5 handset manfacturer for Samsung"
   ]
  },
  {
   "cell_type": "code",
   "execution_count": 11,
   "id": "c14684be",
   "metadata": {},
   "outputs": [
    {
     "data": {
      "text/html": [
       "<div>\n",
       "<style scoped>\n",
       "    .dataframe tbody tr th:only-of-type {\n",
       "        vertical-align: middle;\n",
       "    }\n",
       "\n",
       "    .dataframe tbody tr th {\n",
       "        vertical-align: top;\n",
       "    }\n",
       "\n",
       "    .dataframe thead th {\n",
       "        text-align: right;\n",
       "    }\n",
       "</style>\n",
       "<table border=\"1\" class=\"dataframe\">\n",
       "  <thead>\n",
       "    <tr style=\"text-align: right;\">\n",
       "      <th></th>\n",
       "      <th>Handset Type</th>\n",
       "      <th>IMSI</th>\n",
       "    </tr>\n",
       "  </thead>\n",
       "  <tbody>\n",
       "    <tr>\n",
       "      <th>0</th>\n",
       "      <td>Samsung Galaxy S8 (Sm-G950F)</td>\n",
       "      <td>3275</td>\n",
       "    </tr>\n",
       "    <tr>\n",
       "      <th>1</th>\n",
       "      <td>Samsung Galaxy J5 (Sm-J530)</td>\n",
       "      <td>2760</td>\n",
       "    </tr>\n",
       "    <tr>\n",
       "      <th>2</th>\n",
       "      <td>Samsung Galaxy A5 Sm-A520F</td>\n",
       "      <td>2721</td>\n",
       "    </tr>\n",
       "    <tr>\n",
       "      <th>3</th>\n",
       "      <td>Samsung Galaxy J3 (Sm-J330)</td>\n",
       "      <td>2606</td>\n",
       "    </tr>\n",
       "    <tr>\n",
       "      <th>4</th>\n",
       "      <td>Samsung Galaxy S7 (Sm-G930X)</td>\n",
       "      <td>2310</td>\n",
       "    </tr>\n",
       "  </tbody>\n",
       "</table>\n",
       "</div>"
      ],
      "text/plain": [
       "                   Handset Type  IMSI\n",
       "0  Samsung Galaxy S8 (Sm-G950F)  3275\n",
       "1   Samsung Galaxy J5 (Sm-J530)  2760\n",
       "2    Samsung Galaxy A5 Sm-A520F  2721\n",
       "3   Samsung Galaxy J3 (Sm-J330)  2606\n",
       "4  Samsung Galaxy S7 (Sm-G930X)  2310"
      ]
     },
     "execution_count": 11,
     "metadata": {},
     "output_type": "execute_result"
    }
   ],
   "source": [
    "#top 5 handset manfacturer for Samsung\n",
    "Samsung_handset = df[df['Handset Manufacturer']=='Samsung']\n",
    "Samsung_handset = Samsung_handset.groupby(['Handset Type'])['IMSI']\n",
    "Samsung_handset = Samsung_handset.nunique().nlargest(5).reset_index()\n",
    "Samsung_handset"
   ]
  },
  {
   "cell_type": "markdown",
   "id": "ea7b40c2",
   "metadata": {},
   "source": [
    "#### Task 1.1 - Your employer wants to have an overview of the users’ behavior on those\n",
    "\n",
    "applications.\n",
    "\n",
    "Aggregate per user the following information in the column\n",
    "\n",
    "    *   number of xDR sessions\n",
    "    *   Session duration\n",
    "    *   the total download (DL) and upload (UL) data\n",
    "    *   the total data volume (in Bytes) during this session for each application\n",
    "\n"
   ]
  },
  {
   "cell_type": "markdown",
   "id": "49d11bcb",
   "metadata": {},
   "source": [
    "##### number of xDR sessions"
   ]
  },
  {
   "cell_type": "code",
   "execution_count": 12,
   "id": "512fedec",
   "metadata": {},
   "outputs": [
    {
     "data": {
      "text/html": [
       "<div>\n",
       "<style scoped>\n",
       "    .dataframe tbody tr th:only-of-type {\n",
       "        vertical-align: middle;\n",
       "    }\n",
       "\n",
       "    .dataframe tbody tr th {\n",
       "        vertical-align: top;\n",
       "    }\n",
       "\n",
       "    .dataframe thead th {\n",
       "        text-align: right;\n",
       "    }\n",
       "</style>\n",
       "<table border=\"1\" class=\"dataframe\">\n",
       "  <thead>\n",
       "    <tr style=\"text-align: right;\">\n",
       "      <th></th>\n",
       "      <th>Bearer Id</th>\n",
       "    </tr>\n",
       "    <tr>\n",
       "      <th>MSISDN/Number</th>\n",
       "      <th></th>\n",
       "    </tr>\n",
       "  </thead>\n",
       "  <tbody>\n",
       "    <tr>\n",
       "      <th>33,601,001,722.00</th>\n",
       "      <td>1</td>\n",
       "    </tr>\n",
       "    <tr>\n",
       "      <th>33,601,001,754.00</th>\n",
       "      <td>1</td>\n",
       "    </tr>\n",
       "    <tr>\n",
       "      <th>33,601,002,511.00</th>\n",
       "      <td>1</td>\n",
       "    </tr>\n",
       "    <tr>\n",
       "      <th>33,601,007,832.00</th>\n",
       "      <td>1</td>\n",
       "    </tr>\n",
       "    <tr>\n",
       "      <th>33,601,008,617.00</th>\n",
       "      <td>2</td>\n",
       "    </tr>\n",
       "    <tr>\n",
       "      <th>...</th>\n",
       "      <td>...</td>\n",
       "    </tr>\n",
       "    <tr>\n",
       "      <th>33,789,996,170.00</th>\n",
       "      <td>1</td>\n",
       "    </tr>\n",
       "    <tr>\n",
       "      <th>33,789,997,247.00</th>\n",
       "      <td>1</td>\n",
       "    </tr>\n",
       "    <tr>\n",
       "      <th>3,197,020,876,596.00</th>\n",
       "      <td>1</td>\n",
       "    </tr>\n",
       "    <tr>\n",
       "      <th>337,000,037,000,919.00</th>\n",
       "      <td>1</td>\n",
       "    </tr>\n",
       "    <tr>\n",
       "      <th>882,397,108,489,451.00</th>\n",
       "      <td>1</td>\n",
       "    </tr>\n",
       "  </tbody>\n",
       "</table>\n",
       "<p>106856 rows × 1 columns</p>\n",
       "</div>"
      ],
      "text/plain": [
       "                        Bearer Id\n",
       "MSISDN/Number                    \n",
       "33,601,001,722.00               1\n",
       "33,601,001,754.00               1\n",
       "33,601,002,511.00               1\n",
       "33,601,007,832.00               1\n",
       "33,601,008,617.00               2\n",
       "...                           ...\n",
       "33,789,996,170.00               1\n",
       "33,789,997,247.00               1\n",
       "3,197,020,876,596.00            1\n",
       "337,000,037,000,919.00          1\n",
       "882,397,108,489,451.00          1\n",
       "\n",
       "[106856 rows x 1 columns]"
      ]
     },
     "execution_count": 12,
     "metadata": {},
     "output_type": "execute_result"
    }
   ],
   "source": [
    "number_of_xDR_sessions = df.groupby('MSISDN/Number')\n",
    "number_of_xDR_sessions.agg({\"Bearer Id\": \"count\"})"
   ]
  },
  {
   "cell_type": "markdown",
   "id": "c9ea27ce",
   "metadata": {},
   "source": [
    "#### Session duration"
   ]
  },
  {
   "cell_type": "code",
   "execution_count": 13,
   "id": "6d4d83c9",
   "metadata": {},
   "outputs": [
    {
     "data": {
      "text/html": [
       "<div>\n",
       "<style scoped>\n",
       "    .dataframe tbody tr th:only-of-type {\n",
       "        vertical-align: middle;\n",
       "    }\n",
       "\n",
       "    .dataframe tbody tr th {\n",
       "        vertical-align: top;\n",
       "    }\n",
       "\n",
       "    .dataframe thead th {\n",
       "        text-align: right;\n",
       "    }\n",
       "</style>\n",
       "<table border=\"1\" class=\"dataframe\">\n",
       "  <thead>\n",
       "    <tr style=\"text-align: right;\">\n",
       "      <th></th>\n",
       "      <th>Dur. (ms)</th>\n",
       "    </tr>\n",
       "    <tr>\n",
       "      <th>MSISDN/Number</th>\n",
       "      <th></th>\n",
       "    </tr>\n",
       "  </thead>\n",
       "  <tbody>\n",
       "    <tr>\n",
       "      <th>33,601,001,722.00</th>\n",
       "      <td>116,720.00</td>\n",
       "    </tr>\n",
       "    <tr>\n",
       "      <th>33,601,001,754.00</th>\n",
       "      <td>181,230.00</td>\n",
       "    </tr>\n",
       "    <tr>\n",
       "      <th>33,601,002,511.00</th>\n",
       "      <td>134,969.00</td>\n",
       "    </tr>\n",
       "    <tr>\n",
       "      <th>33,601,007,832.00</th>\n",
       "      <td>49,878.00</td>\n",
       "    </tr>\n",
       "    <tr>\n",
       "      <th>33,601,008,617.00</th>\n",
       "      <td>37,104.00</td>\n",
       "    </tr>\n",
       "    <tr>\n",
       "      <th>...</th>\n",
       "      <td>...</td>\n",
       "    </tr>\n",
       "    <tr>\n",
       "      <th>33,789,996,170.00</th>\n",
       "      <td>8,810.00</td>\n",
       "    </tr>\n",
       "    <tr>\n",
       "      <th>33,789,997,247.00</th>\n",
       "      <td>140,988.00</td>\n",
       "    </tr>\n",
       "    <tr>\n",
       "      <th>3,197,020,876,596.00</th>\n",
       "      <td>244,912.00</td>\n",
       "    </tr>\n",
       "    <tr>\n",
       "      <th>337,000,037,000,919.00</th>\n",
       "      <td>244,912.00</td>\n",
       "    </tr>\n",
       "    <tr>\n",
       "      <th>882,397,108,489,451.00</th>\n",
       "      <td>244,912.00</td>\n",
       "    </tr>\n",
       "  </tbody>\n",
       "</table>\n",
       "<p>106856 rows × 1 columns</p>\n",
       "</div>"
      ],
      "text/plain": [
       "                        Dur. (ms)\n",
       "MSISDN/Number                    \n",
       "33,601,001,722.00      116,720.00\n",
       "33,601,001,754.00      181,230.00\n",
       "33,601,002,511.00      134,969.00\n",
       "33,601,007,832.00       49,878.00\n",
       "33,601,008,617.00       37,104.00\n",
       "...                           ...\n",
       "33,789,996,170.00        8,810.00\n",
       "33,789,997,247.00      140,988.00\n",
       "3,197,020,876,596.00   244,912.00\n",
       "337,000,037,000,919.00 244,912.00\n",
       "882,397,108,489,451.00 244,912.00\n",
       "\n",
       "[106856 rows x 1 columns]"
      ]
     },
     "execution_count": 13,
     "metadata": {},
     "output_type": "execute_result"
    }
   ],
   "source": [
    "#Session duration\n",
    "session_duration = df.groupby('MSISDN/Number')\n",
    "session_duration.agg({\"Dur. (ms)\": \"sum\"})"
   ]
  },
  {
   "cell_type": "markdown",
   "id": "94e3d1af",
   "metadata": {},
   "source": [
    "#### the total download (DL) and upload (UL) data"
   ]
  },
  {
   "cell_type": "code",
   "execution_count": 14,
   "id": "b7bf8398",
   "metadata": {},
   "outputs": [
    {
     "data": {
      "text/html": [
       "<div>\n",
       "<style scoped>\n",
       "    .dataframe tbody tr th:only-of-type {\n",
       "        vertical-align: middle;\n",
       "    }\n",
       "\n",
       "    .dataframe tbody tr th {\n",
       "        vertical-align: top;\n",
       "    }\n",
       "\n",
       "    .dataframe thead th {\n",
       "        text-align: right;\n",
       "    }\n",
       "</style>\n",
       "<table border=\"1\" class=\"dataframe\">\n",
       "  <thead>\n",
       "    <tr style=\"text-align: right;\">\n",
       "      <th></th>\n",
       "      <th>Total UL (Bytes)</th>\n",
       "      <th>Total DL (Bytes)</th>\n",
       "    </tr>\n",
       "    <tr>\n",
       "      <th>IMSI</th>\n",
       "      <th></th>\n",
       "      <th></th>\n",
       "    </tr>\n",
       "  </thead>\n",
       "  <tbody>\n",
       "    <tr>\n",
       "      <th>204,047,108,489,451.00</th>\n",
       "      <td>60,456,049.00</td>\n",
       "      <td>78,697,597.00</td>\n",
       "    </tr>\n",
       "    <tr>\n",
       "      <th>204,080,810,288,647.00</th>\n",
       "      <td>37,295,915.00</td>\n",
       "      <td>194,828,056.00</td>\n",
       "    </tr>\n",
       "    <tr>\n",
       "      <th>208,200,101,016,140.00</th>\n",
       "      <td>53,794,658.00</td>\n",
       "      <td>31,376,981.00</td>\n",
       "    </tr>\n",
       "    <tr>\n",
       "      <th>208,200,101,127,285.00</th>\n",
       "      <td>33,583,272.00</td>\n",
       "      <td>392,918,313.00</td>\n",
       "    </tr>\n",
       "    <tr>\n",
       "      <th>208,200,101,148,045.00</th>\n",
       "      <td>71,325,004.00</td>\n",
       "      <td>961,767,023.00</td>\n",
       "    </tr>\n",
       "  </tbody>\n",
       "</table>\n",
       "</div>"
      ],
      "text/plain": [
       "                        Total UL (Bytes)  Total DL (Bytes)\n",
       "IMSI                                                      \n",
       "204,047,108,489,451.00     60,456,049.00     78,697,597.00\n",
       "204,080,810,288,647.00     37,295,915.00    194,828,056.00\n",
       "208,200,101,016,140.00     53,794,658.00     31,376,981.00\n",
       "208,200,101,127,285.00     33,583,272.00    392,918,313.00\n",
       "208,200,101,148,045.00     71,325,004.00    961,767,023.00"
      ]
     },
     "execution_count": 14,
     "metadata": {},
     "output_type": "execute_result"
    }
   ],
   "source": [
    "# the total download (DL) and upload (UL) data\n",
    "total_DL_UL = df.groupby(['IMSI'])[['Total UL (Bytes)', 'Total DL (Bytes)']].sum()\n",
    "total_DL_UL.head(5)"
   ]
  },
  {
   "cell_type": "markdown",
   "id": "77c17860",
   "metadata": {},
   "source": [
    "#### upper and lower boundries"
   ]
  },
  {
   "cell_type": "code",
   "execution_count": 15,
   "id": "ae647205",
   "metadata": {},
   "outputs": [],
   "source": [
    "\"\"\"\n",
    "calculate the boundaries outside which sit the outliers\n",
    "for a Gaussian distribution\n",
    "\"\"\"\n",
    "def normal_boundaries(df, variable, distance):\n",
    "    upper_boundary = df[variable].mean() + distance * df[variable].std()\n",
    "    lower_boundary = df[variable].mean() - distance * df[variable].std()\n",
    "    return upper_boundary, lower_boundary"
   ]
  },
  {
   "cell_type": "code",
   "execution_count": 16,
   "id": "83192190",
   "metadata": {},
   "outputs": [
    {
     "data": {
      "text/plain": [
       "(188198.29631618026, 10945.718857051921)"
      ]
     },
     "execution_count": 16,
     "metadata": {},
     "output_type": "execute_result"
    }
   ],
   "source": [
    "# Upper and lower limits of duration\n",
    "dur_upper_limit, dur_lower_limit = normal_boundaries(df, 'Dur. (ms)', 1.5)\n",
    "dur_upper_limit, dur_lower_limit"
   ]
  },
  {
   "cell_type": "code",
   "execution_count": 17,
   "id": "90bb4c99",
   "metadata": {},
   "outputs": [],
   "source": [
    "# Replacing the outliers by the maximum and minimum limit\n",
    "df['Dur. (ms)']= np.where(df['Dur. (ms)'] > dur_upper_limit, dur_upper_limit,\\\n",
    "                       np.where(df['Dur. (ms)'] < dur_lower_limit, dur_lower_limit, df['Dur. (ms)']))"
   ]
  },
  {
   "cell_type": "markdown",
   "id": "11a7d7de",
   "metadata": {},
   "source": [
    "#### Total data volume"
   ]
  },
  {
   "cell_type": "code",
   "execution_count": 18,
   "id": "7914169d",
   "metadata": {},
   "outputs": [
    {
     "data": {
      "text/plain": [
       "count       150,001.00\n",
       "mean    495,761,954.55\n",
       "std     244,383,194.31\n",
       "min      28,956,107.00\n",
       "25%     284,474,370.00\n",
       "50%     496,860,994.00\n",
       "75%     706,505,411.00\n",
       "max     955,984,776.00\n",
       "dtype: float64"
      ]
     },
     "execution_count": 18,
     "metadata": {},
     "output_type": "execute_result"
    }
   ],
   "source": [
    "x = df['Total_data'] = df['Total UL (Bytes)'] + df['Total DL (Bytes)']\n",
    "x.describe()"
   ]
  },
  {
   "cell_type": "code",
   "execution_count": 19,
   "id": "0a592a1b",
   "metadata": {},
   "outputs": [
    {
     "data": {
      "text/html": [
       "<div>\n",
       "<style scoped>\n",
       "    .dataframe tbody tr th:only-of-type {\n",
       "        vertical-align: middle;\n",
       "    }\n",
       "\n",
       "    .dataframe tbody tr th {\n",
       "        vertical-align: top;\n",
       "    }\n",
       "\n",
       "    .dataframe thead th {\n",
       "        text-align: right;\n",
       "    }\n",
       "</style>\n",
       "<table border=\"1\" class=\"dataframe\">\n",
       "  <thead>\n",
       "    <tr style=\"text-align: right;\">\n",
       "      <th></th>\n",
       "      <th>count</th>\n",
       "      <th>mean</th>\n",
       "      <th>std</th>\n",
       "      <th>min</th>\n",
       "      <th>25%</th>\n",
       "      <th>50%</th>\n",
       "      <th>75%</th>\n",
       "      <th>max</th>\n",
       "    </tr>\n",
       "    <tr>\n",
       "      <th>MSISDN/Number</th>\n",
       "      <th></th>\n",
       "      <th></th>\n",
       "      <th></th>\n",
       "      <th></th>\n",
       "      <th></th>\n",
       "      <th></th>\n",
       "      <th></th>\n",
       "      <th></th>\n",
       "    </tr>\n",
       "  </thead>\n",
       "  <tbody>\n",
       "    <tr>\n",
       "      <th>33,601,001,722.00</th>\n",
       "      <td>1.00</td>\n",
       "      <td>878,690,574.00</td>\n",
       "      <td>NaN</td>\n",
       "      <td>878,690,574.00</td>\n",
       "      <td>878,690,574.00</td>\n",
       "      <td>878,690,574.00</td>\n",
       "      <td>878,690,574.00</td>\n",
       "      <td>878,690,574.00</td>\n",
       "    </tr>\n",
       "    <tr>\n",
       "      <th>33,601,001,754.00</th>\n",
       "      <td>1.00</td>\n",
       "      <td>156,859,643.00</td>\n",
       "      <td>NaN</td>\n",
       "      <td>156,859,643.00</td>\n",
       "      <td>156,859,643.00</td>\n",
       "      <td>156,859,643.00</td>\n",
       "      <td>156,859,643.00</td>\n",
       "      <td>156,859,643.00</td>\n",
       "    </tr>\n",
       "    <tr>\n",
       "      <th>33,601,002,511.00</th>\n",
       "      <td>1.00</td>\n",
       "      <td>595,966,483.00</td>\n",
       "      <td>NaN</td>\n",
       "      <td>595,966,483.00</td>\n",
       "      <td>595,966,483.00</td>\n",
       "      <td>595,966,483.00</td>\n",
       "      <td>595,966,483.00</td>\n",
       "      <td>595,966,483.00</td>\n",
       "    </tr>\n",
       "    <tr>\n",
       "      <th>33,601,007,832.00</th>\n",
       "      <td>1.00</td>\n",
       "      <td>422,320,698.00</td>\n",
       "      <td>NaN</td>\n",
       "      <td>422,320,698.00</td>\n",
       "      <td>422,320,698.00</td>\n",
       "      <td>422,320,698.00</td>\n",
       "      <td>422,320,698.00</td>\n",
       "      <td>422,320,698.00</td>\n",
       "    </tr>\n",
       "    <tr>\n",
       "      <th>33,601,008,617.00</th>\n",
       "      <td>2.00</td>\n",
       "      <td>728,705,472.00</td>\n",
       "      <td>202,412,297.28</td>\n",
       "      <td>585,578,364.00</td>\n",
       "      <td>657,141,918.00</td>\n",
       "      <td>728,705,472.00</td>\n",
       "      <td>800,269,026.00</td>\n",
       "      <td>871,832,580.00</td>\n",
       "    </tr>\n",
       "    <tr>\n",
       "      <th>...</th>\n",
       "      <td>...</td>\n",
       "      <td>...</td>\n",
       "      <td>...</td>\n",
       "      <td>...</td>\n",
       "      <td>...</td>\n",
       "      <td>...</td>\n",
       "      <td>...</td>\n",
       "      <td>...</td>\n",
       "    </tr>\n",
       "    <tr>\n",
       "      <th>33,789,996,170.00</th>\n",
       "      <td>1.00</td>\n",
       "      <td>714,641,641.00</td>\n",
       "      <td>NaN</td>\n",
       "      <td>714,641,641.00</td>\n",
       "      <td>714,641,641.00</td>\n",
       "      <td>714,641,641.00</td>\n",
       "      <td>714,641,641.00</td>\n",
       "      <td>714,641,641.00</td>\n",
       "    </tr>\n",
       "    <tr>\n",
       "      <th>33,789,997,247.00</th>\n",
       "      <td>1.00</td>\n",
       "      <td>480,307,335.00</td>\n",
       "      <td>NaN</td>\n",
       "      <td>480,307,335.00</td>\n",
       "      <td>480,307,335.00</td>\n",
       "      <td>480,307,335.00</td>\n",
       "      <td>480,307,335.00</td>\n",
       "      <td>480,307,335.00</td>\n",
       "    </tr>\n",
       "    <tr>\n",
       "      <th>3,197,020,876,596.00</th>\n",
       "      <td>1.00</td>\n",
       "      <td>232,123,971.00</td>\n",
       "      <td>NaN</td>\n",
       "      <td>232,123,971.00</td>\n",
       "      <td>232,123,971.00</td>\n",
       "      <td>232,123,971.00</td>\n",
       "      <td>232,123,971.00</td>\n",
       "      <td>232,123,971.00</td>\n",
       "    </tr>\n",
       "    <tr>\n",
       "      <th>337,000,037,000,919.00</th>\n",
       "      <td>1.00</td>\n",
       "      <td>596,287,824.00</td>\n",
       "      <td>NaN</td>\n",
       "      <td>596,287,824.00</td>\n",
       "      <td>596,287,824.00</td>\n",
       "      <td>596,287,824.00</td>\n",
       "      <td>596,287,824.00</td>\n",
       "      <td>596,287,824.00</td>\n",
       "    </tr>\n",
       "    <tr>\n",
       "      <th>882,397,108,489,451.00</th>\n",
       "      <td>1.00</td>\n",
       "      <td>139,153,646.00</td>\n",
       "      <td>NaN</td>\n",
       "      <td>139,153,646.00</td>\n",
       "      <td>139,153,646.00</td>\n",
       "      <td>139,153,646.00</td>\n",
       "      <td>139,153,646.00</td>\n",
       "      <td>139,153,646.00</td>\n",
       "    </tr>\n",
       "  </tbody>\n",
       "</table>\n",
       "<p>106856 rows × 8 columns</p>\n",
       "</div>"
      ],
      "text/plain": [
       "                        count           mean            std            min  \\\n",
       "MSISDN/Number                                                                \n",
       "33,601,001,722.00        1.00 878,690,574.00            NaN 878,690,574.00   \n",
       "33,601,001,754.00        1.00 156,859,643.00            NaN 156,859,643.00   \n",
       "33,601,002,511.00        1.00 595,966,483.00            NaN 595,966,483.00   \n",
       "33,601,007,832.00        1.00 422,320,698.00            NaN 422,320,698.00   \n",
       "33,601,008,617.00        2.00 728,705,472.00 202,412,297.28 585,578,364.00   \n",
       "...                       ...            ...            ...            ...   \n",
       "33,789,996,170.00        1.00 714,641,641.00            NaN 714,641,641.00   \n",
       "33,789,997,247.00        1.00 480,307,335.00            NaN 480,307,335.00   \n",
       "3,197,020,876,596.00     1.00 232,123,971.00            NaN 232,123,971.00   \n",
       "337,000,037,000,919.00   1.00 596,287,824.00            NaN 596,287,824.00   \n",
       "882,397,108,489,451.00   1.00 139,153,646.00            NaN 139,153,646.00   \n",
       "\n",
       "                                  25%            50%            75%  \\\n",
       "MSISDN/Number                                                         \n",
       "33,601,001,722.00      878,690,574.00 878,690,574.00 878,690,574.00   \n",
       "33,601,001,754.00      156,859,643.00 156,859,643.00 156,859,643.00   \n",
       "33,601,002,511.00      595,966,483.00 595,966,483.00 595,966,483.00   \n",
       "33,601,007,832.00      422,320,698.00 422,320,698.00 422,320,698.00   \n",
       "33,601,008,617.00      657,141,918.00 728,705,472.00 800,269,026.00   \n",
       "...                               ...            ...            ...   \n",
       "33,789,996,170.00      714,641,641.00 714,641,641.00 714,641,641.00   \n",
       "33,789,997,247.00      480,307,335.00 480,307,335.00 480,307,335.00   \n",
       "3,197,020,876,596.00   232,123,971.00 232,123,971.00 232,123,971.00   \n",
       "337,000,037,000,919.00 596,287,824.00 596,287,824.00 596,287,824.00   \n",
       "882,397,108,489,451.00 139,153,646.00 139,153,646.00 139,153,646.00   \n",
       "\n",
       "                                  max  \n",
       "MSISDN/Number                          \n",
       "33,601,001,722.00      878,690,574.00  \n",
       "33,601,001,754.00      156,859,643.00  \n",
       "33,601,002,511.00      595,966,483.00  \n",
       "33,601,007,832.00      422,320,698.00  \n",
       "33,601,008,617.00      871,832,580.00  \n",
       "...                               ...  \n",
       "33,789,996,170.00      714,641,641.00  \n",
       "33,789,997,247.00      480,307,335.00  \n",
       "3,197,020,876,596.00   232,123,971.00  \n",
       "337,000,037,000,919.00 596,287,824.00  \n",
       "882,397,108,489,451.00 139,153,646.00  \n",
       "\n",
       "[106856 rows x 8 columns]"
      ]
     },
     "execution_count": 19,
     "metadata": {},
     "output_type": "execute_result"
    }
   ],
   "source": [
    "grouped_data= df.groupby('MSISDN/Number')\n",
    "grouped_data.agg('Total_data').describe()"
   ]
  },
  {
   "cell_type": "code",
   "execution_count": 20,
   "id": "5b78e53f",
   "metadata": {},
   "outputs": [],
   "source": [
    "# total data\n",
    "def total_data(df):\n",
    "    cols = ['Social Media DL (Bytes)', 'Social Media UL (Bytes)', 'Google DL (Bytes)', 'Google UL (Bytes)',\n",
    "            'Email DL (Bytes)', 'Email UL (Bytes)', 'Youtube DL (Bytes)', 'Youtube UL (Bytes)', \n",
    "            'Netflix DL (Bytes)', 'Netflix UL (Bytes)', 'Gaming DL (Bytes)', 'Gaming UL (Bytes)',\n",
    "            'Other DL (Bytes)', 'Other UL (Bytes)', 'Total UL (Bytes)', 'Total DL (Bytes)']\n",
    "    df['Social Media'] = df[cols[0]] + df[cols[1]]\n",
    "    df['Google'] = df[cols[2]] + df[cols[3]]\n",
    "    df['Email'] = df[cols[4]] + df[cols[5]]\n",
    "    df['Youtube'] = df[cols[6]] + df[cols[7]]\n",
    "    df['Netflix'] = df[cols[8]] + df[cols[9]]\n",
    "    df['Gaming'] = df[cols[10]] + df[cols[11]]\n",
    "    df['Other'] = df[cols[12]] + df[cols[13]]\n",
    "    df['Total'] = df[cols[14]] + df[cols[15]]\n",
    "    return df\n",
    "data = total_data(df)"
   ]
  },
  {
   "cell_type": "markdown",
   "id": "abf86c19",
   "metadata": {},
   "source": [
    "#### Total data volume (in Bytes) for Email"
   ]
  },
  {
   "cell_type": "code",
   "execution_count": 21,
   "id": "a5e3d7a1",
   "metadata": {},
   "outputs": [
    {
     "data": {
      "text/plain": [
       "0        3,701,304.00\n",
       "1          937,385.00\n",
       "2        3,363,124.00\n",
       "3        2,070,983.00\n",
       "4        2,110,349.00\n",
       "             ...     \n",
       "149996     690,876.00\n",
       "149997   2,121,718.00\n",
       "149998   2,058,277.00\n",
       "149999   2,850,914.00\n",
       "150000   2,259,102.31\n",
       "Name: Email, Length: 150001, dtype: float64"
      ]
     },
     "execution_count": 21,
     "metadata": {},
     "output_type": "execute_result"
    }
   ],
   "source": [
    "email_data = data['Email']\n",
    "email_data"
   ]
  },
  {
   "cell_type": "code",
   "execution_count": 22,
   "id": "a8f7ec6d",
   "metadata": {},
   "outputs": [
    {
     "data": {
      "text/plain": [
       "count     150,001.00\n",
       "mean    2,259,102.31\n",
       "std     1,071,109.06\n",
       "min         8,359.00\n",
       "25%     1,359,344.00\n",
       "50%     2,263,567.00\n",
       "75%     3,159,818.00\n",
       "max     4,518,036.00\n",
       "Name: Email, dtype: float64"
      ]
     },
     "execution_count": 22,
     "metadata": {},
     "output_type": "execute_result"
    }
   ],
   "source": [
    "email_data.describe()"
   ]
  },
  {
   "cell_type": "code",
   "execution_count": 23,
   "id": "b7521c21",
   "metadata": {},
   "outputs": [
    {
     "data": {
      "text/plain": [
       "<Axes: >"
      ]
     },
     "execution_count": 23,
     "metadata": {},
     "output_type": "execute_result"
    },
    {
     "data": {
      "image/png": "[encoded data removed]",
      "text/plain": [
       "<Figure size 640x480 with 1 Axes>"
      ]
     },
     "metadata": {},
     "output_type": "display_data"
    }
   ],
   "source": [
    "email_data.hist()"
   ]
  },
  {
   "cell_type": "markdown",
   "id": "d2865317",
   "metadata": {},
   "source": [
    "#### Total data volume (in Bytes) for Social media"
   ]
  },
  {
   "cell_type": "code",
   "execution_count": 24,
   "id": "35f4fd9d",
   "metadata": {},
   "outputs": [
    {
     "data": {
      "text/plain": [
       "0        1,570,185.00\n",
       "1        1,933,278.00\n",
       "2        1,726,277.00\n",
       "3          657,493.00\n",
       "4          912,788.00\n",
       "             ...     \n",
       "149996   3,517,065.00\n",
       "149997   2,352,181.00\n",
       "149998   1,260,239.00\n",
       "149999     823,109.00\n",
       "150000   1,828,250.21\n",
       "Name: Social Media, Length: 150001, dtype: float64"
      ]
     },
     "execution_count": 24,
     "metadata": {},
     "output_type": "execute_result"
    }
   ],
   "source": [
    "social_data = data['Social Media']\n",
    "social_data "
   ]
  },
  {
   "cell_type": "code",
   "execution_count": 25,
   "id": "cadd6dbf",
   "metadata": {},
   "outputs": [
    {
     "data": {
      "text/plain": [
       "count     150,001.00\n",
       "mean    1,828,250.21\n",
       "std     1,035,646.14\n",
       "min         1,563.00\n",
       "25%       932,218.00\n",
       "50%     1,826,471.00\n",
       "75%     2,727,487.00\n",
       "max     3,650,861.00\n",
       "Name: Social Media, dtype: float64"
      ]
     },
     "execution_count": 25,
     "metadata": {},
     "output_type": "execute_result"
    }
   ],
   "source": [
    "social_data.describe()"
   ]
  },
  {
   "cell_type": "code",
   "execution_count": 26,
   "id": "e8c2ded3",
   "metadata": {},
   "outputs": [
    {
     "data": {
      "text/plain": [
       "<Axes: >"
      ]
     },
     "execution_count": 26,
     "metadata": {},
     "output_type": "execute_result"
    },
    {
     "data": {
      "image/png": "[encoded data removed]",
      "text/plain": [
       "<Figure size 640x480 with 1 Axes>"
      ]
     },
     "metadata": {},
     "output_type": "display_data"
    }
   ],
   "source": [
    "social_data.hist()"
   ]
  },
  {
   "cell_type": "markdown",
   "id": "088974fc",
   "metadata": {},
   "source": [
    "#### Total data volume (in Bytes) for Google"
   ]
  },
  {
   "cell_type": "code",
   "execution_count": 27,
   "id": "f7e597e1",
   "metadata": {},
   "outputs": [
    {
     "data": {
      "text/plain": [
       "0         2,905,912.00\n",
       "1         4,414,096.00\n",
       "2        10,229,119.00\n",
       "3        11,811,761.00\n",
       "4         7,748,843.00\n",
       "              ...     \n",
       "149996   12,784,914.00\n",
       "149997    4,415,361.00\n",
       "149998    6,585,469.00\n",
       "149999    7,757,267.00\n",
       "150000    7,807,294.55\n",
       "Name: Google, Length: 150001, dtype: float64"
      ]
     },
     "execution_count": 27,
     "metadata": {},
     "output_type": "execute_result"
    }
   ],
   "source": [
    "google_data = data['Google']\n",
    "google_data "
   ]
  },
  {
   "cell_type": "code",
   "execution_count": 28,
   "id": "d0843f23",
   "metadata": {},
   "outputs": [
    {
     "data": {
      "text/plain": [
       "count      150,001.00\n",
       "mean     7,807,294.55\n",
       "std      3,516,420.24\n",
       "min         40,330.00\n",
       "25%      4,943,599.00\n",
       "50%      7,812,835.00\n",
       "75%     10,682,796.00\n",
       "max     15,528,782.00\n",
       "Name: Google, dtype: float64"
      ]
     },
     "execution_count": 28,
     "metadata": {},
     "output_type": "execute_result"
    }
   ],
   "source": [
    "google_data.describe()"
   ]
  },
  {
   "cell_type": "code",
   "execution_count": 29,
   "id": "8559b6b9",
   "metadata": {},
   "outputs": [
    {
     "data": {
      "text/plain": [
       "<Axes: >"
      ]
     },
     "execution_count": 29,
     "metadata": {},
     "output_type": "execute_result"
    },
    {
     "data": {
      "image/png": "[encoded data removed]",
      "text/plain": [
       "<Figure size 640x480 with 1 Axes>"
      ]
     },
     "metadata": {},
     "output_type": "display_data"
    }
   ],
   "source": [
    "google_data.hist()"
   ]
  },
  {
   "cell_type": "markdown",
   "id": "adf2ab86",
   "metadata": {},
   "source": [
    "#### Total data volume (in Bytes) for Youtube"
   ]
  },
  {
   "cell_type": "code",
   "execution_count": 30,
   "id": "711d1b0a",
   "metadata": {},
   "outputs": [
    {
     "data": {
      "text/plain": [
       "0        18,355,943.00\n",
       "1        39,359,124.00\n",
       "2        34,425,237.00\n",
       "3        36,534,765.00\n",
       "4        34,222,253.00\n",
       "              ...     \n",
       "149996   27,955,095.00\n",
       "149997   22,165,518.00\n",
       "149998   24,516,413.00\n",
       "149999   17,122,508.00\n",
       "150000   22,643,482.64\n",
       "Name: Youtube, Length: 150001, dtype: float64"
      ]
     },
     "execution_count": 30,
     "metadata": {},
     "output_type": "execute_result"
    }
   ],
   "source": [
    "youtube_data = data['Youtube']\n",
    "youtube_data"
   ]
  },
  {
   "cell_type": "code",
   "execution_count": 31,
   "id": "91e5aabc",
   "metadata": {},
   "outputs": [
    {
     "data": {
      "text/plain": [
       "count      150,001.00\n",
       "mean    22,643,482.64\n",
       "std      9,246,800.31\n",
       "min         78,903.00\n",
       "25%     15,998,463.00\n",
       "50%     22,661,770.00\n",
       "75%     29,292,604.00\n",
       "max     45,190,078.00\n",
       "Name: Youtube, dtype: float64"
      ]
     },
     "execution_count": 31,
     "metadata": {},
     "output_type": "execute_result"
    }
   ],
   "source": [
    "youtube_data.describe()"
   ]
  },
  {
   "cell_type": "code",
   "execution_count": 32,
   "id": "6ccf8300",
   "metadata": {},
   "outputs": [
    {
     "data": {
      "text/plain": [
       "<Axes: >"
      ]
     },
     "execution_count": 32,
     "metadata": {},
     "output_type": "execute_result"
    },
    {
     "data": {
      "image/png": "[encoded data removed]",
      "text/plain": [
       "<Figure size 640x480 with 1 Axes>"
      ]
     },
     "metadata": {},
     "output_type": "display_data"
    }
   ],
   "source": [
    "youtube_data.hist()"
   ]
  },
  {
   "cell_type": "markdown",
   "id": "b8309a28",
   "metadata": {},
   "source": [
    "#### Total data volume (in Bytes) for Netflix"
   ]
  },
  {
   "cell_type": "code",
   "execution_count": 33,
   "id": "a787372b",
   "metadata": {},
   "outputs": [
    {
     "data": {
      "text/plain": [
       "0        17,855,187.00\n",
       "1        35,565,545.00\n",
       "2        23,751,202.00\n",
       "3        15,092,588.00\n",
       "4        17,539,799.00\n",
       "              ...     \n",
       "149996   37,561,864.00\n",
       "149997   40,643,294.00\n",
       "149998   15,029,702.00\n",
       "149999   16,494,842.00\n",
       "150000   22,628,606.54\n",
       "Name: Netflix, Length: 150001, dtype: float64"
      ]
     },
     "execution_count": 33,
     "metadata": {},
     "output_type": "execute_result"
    }
   ],
   "source": [
    "netflix_data = data['Netflix']\n",
    "netflix_data"
   ]
  },
  {
   "cell_type": "code",
   "execution_count": 34,
   "id": "fec09833",
   "metadata": {},
   "outputs": [
    {
     "data": {
      "text/plain": [
       "count      150,001.00\n",
       "mean    22,628,606.54\n",
       "std      9,260,820.09\n",
       "min         98,432.00\n",
       "25%     15,979,455.00\n",
       "50%     22,635,545.00\n",
       "75%     29,290,445.00\n",
       "max     45,198,153.00\n",
       "Name: Netflix, dtype: float64"
      ]
     },
     "execution_count": 34,
     "metadata": {},
     "output_type": "execute_result"
    }
   ],
   "source": [
    "netflix_data.describe()"
   ]
  },
  {
   "cell_type": "code",
   "execution_count": 35,
   "id": "ad9858cc",
   "metadata": {},
   "outputs": [
    {
     "data": {
      "text/plain": [
       "<Axes: >"
      ]
     },
     "execution_count": 35,
     "metadata": {},
     "output_type": "execute_result"
    },
    {
     "data": {
      "image/png": "[encoded data removed]",
      "text/plain": [
       "<Figure size 640x480 with 1 Axes>"
      ]
     },
     "metadata": {},
     "output_type": "display_data"
    }
   ],
   "source": [
    "netflix_data.hist()"
   ]
  },
  {
   "cell_type": "markdown",
   "id": "af3dfaa2",
   "metadata": {},
   "source": [
    "#### Total data volume (in Bytes) for Gaming"
   ]
  },
  {
   "cell_type": "code",
   "execution_count": 36,
   "id": "e170e207",
   "metadata": {},
   "outputs": [
    {
     "data": {
      "text/plain": [
       "0        292,426,453.00\n",
       "1        609,920,783.00\n",
       "2        229,980,251.00\n",
       "3        810,387,875.00\n",
       "4        531,237,049.00\n",
       "              ...      \n",
       "149996   535,806,880.00\n",
       "149997   631,628,095.00\n",
       "149998   566,933,800.00\n",
       "149999   355,066,446.00\n",
       "150000   430,333,100.71\n",
       "Name: Gaming, Length: 150001, dtype: float64"
      ]
     },
     "execution_count": 36,
     "metadata": {},
     "output_type": "execute_result"
    }
   ],
   "source": [
    "gaming_data = data['Gaming']\n",
    "gaming_data"
   ]
  },
  {
   "cell_type": "code",
   "execution_count": 37,
   "id": "d798189a",
   "metadata": {},
   "outputs": [
    {
     "data": {
      "text/plain": [
       "count       150,001.00\n",
       "mean    430,333,100.71\n",
       "std     244,019,924.02\n",
       "min         306,358.00\n",
       "25%     218,727,939.00\n",
       "50%     431,614,977.00\n",
       "75%     641,415,878.00\n",
       "max     859,202,784.00\n",
       "Name: Gaming, dtype: float64"
      ]
     },
     "execution_count": 37,
     "metadata": {},
     "output_type": "execute_result"
    }
   ],
   "source": [
    "gaming_data.describe()"
   ]
  },
  {
   "cell_type": "code",
   "execution_count": 38,
   "id": "f2767931",
   "metadata": {},
   "outputs": [
    {
     "data": {
      "text/plain": [
       "<Axes: >"
      ]
     },
     "execution_count": 38,
     "metadata": {},
     "output_type": "execute_result"
    },
    {
     "data": {
      "image/png": "[encoded data removed]",
      "text/plain": [
       "<Figure size 640x480 with 1 Axes>"
      ]
     },
     "metadata": {},
     "output_type": "display_data"
    }
   ],
   "source": [
    "gaming_data.hist()"
   ]
  },
  {
   "cell_type": "markdown",
   "id": "f7e65341",
   "metadata": {},
   "source": [
    "#### Dimensionality Reduction – \n",
    "perform a principal component analysis to reduce the dimensions of data"
   ]
  },
  {
   "cell_type": "code",
   "execution_count": 39,
   "id": "dea302f2",
   "metadata": {},
   "outputs": [
    {
     "data": {
      "text/html": [
       "<div>\n",
       "<style scoped>\n",
       "    .dataframe tbody tr th:only-of-type {\n",
       "        vertical-align: middle;\n",
       "    }\n",
       "\n",
       "    .dataframe tbody tr th {\n",
       "        vertical-align: top;\n",
       "    }\n",
       "\n",
       "    .dataframe thead th {\n",
       "        text-align: right;\n",
       "    }\n",
       "</style>\n",
       "<table border=\"1\" class=\"dataframe\">\n",
       "  <thead>\n",
       "    <tr style=\"text-align: right;\">\n",
       "      <th></th>\n",
       "      <th>PC 1</th>\n",
       "      <th>PC 2</th>\n",
       "      <th>PC 3</th>\n",
       "      <th>PC 4</th>\n",
       "    </tr>\n",
       "  </thead>\n",
       "  <tbody>\n",
       "    <tr>\n",
       "      <th>0</th>\n",
       "      <td>-0.85</td>\n",
       "      <td>0.50</td>\n",
       "      <td>0.01</td>\n",
       "      <td>0.04</td>\n",
       "    </tr>\n",
       "    <tr>\n",
       "      <th>1</th>\n",
       "      <td>-1.14</td>\n",
       "      <td>0.44</td>\n",
       "      <td>0.01</td>\n",
       "      <td>0.05</td>\n",
       "    </tr>\n",
       "    <tr>\n",
       "      <th>2</th>\n",
       "      <td>-0.87</td>\n",
       "      <td>0.53</td>\n",
       "      <td>0.02</td>\n",
       "      <td>0.05</td>\n",
       "    </tr>\n",
       "    <tr>\n",
       "      <th>3</th>\n",
       "      <td>-1.48</td>\n",
       "      <td>0.31</td>\n",
       "      <td>0.02</td>\n",
       "      <td>-0.02</td>\n",
       "    </tr>\n",
       "    <tr>\n",
       "      <th>4</th>\n",
       "      <td>1.70</td>\n",
       "      <td>-0.70</td>\n",
       "      <td>0.32</td>\n",
       "      <td>-1.28</td>\n",
       "    </tr>\n",
       "  </tbody>\n",
       "</table>\n",
       "</div>"
      ],
      "text/plain": [
       "   PC 1  PC 2  PC 3  PC 4\n",
       "0 -0.85  0.50  0.01  0.04\n",
       "1 -1.14  0.44  0.01  0.05\n",
       "2 -0.87  0.53  0.02  0.05\n",
       "3 -1.48  0.31  0.02 -0.02\n",
       "4  1.70 -0.70  0.32 -1.28"
      ]
     },
     "execution_count": 39,
     "metadata": {},
     "output_type": "execute_result"
    }
   ],
   "source": [
    "# Perform PCA\n",
    "dim_df = data.select_dtypes(exclude='object').groupby('MSISDN/Number').sum()\n",
    "pca_scaled = StandardScaler().fit_transform(X=dim_df)\n",
    "pca = PCA(n_components=4)\n",
    "pca.fit(pca_scaled)\n",
    "score = pca.transform(pca_scaled)\n",
    "\n",
    "\n",
    "principalDf = pd.DataFrame(data = score\n",
    "             , columns = ['PC 1', 'PC 2', 'PC 3', 'PC 4'])\n",
    "principalDf.head()"
   ]
  },
  {
   "cell_type": "code",
   "execution_count": 40,
   "id": "7066fdfe",
   "metadata": {},
   "outputs": [
    {
     "data": {
      "text/plain": [
       "array([38.25652995,  3.27557089,  1.22221814,  0.73128669])"
      ]
     },
     "execution_count": 40,
     "metadata": {},
     "output_type": "execute_result"
    }
   ],
   "source": [
    "#Variance\n",
    "pca.explained_variance_"
   ]
  },
  {
   "cell_type": "code",
   "execution_count": null,
   "id": "4c1e1df4",
   "metadata": {},
   "outputs": [],
   "source": []
  }
 ],
 "metadata": {
  "kernelspec": {
   "display_name": "Python 3 (ipykernel)",
   "language": "python",
   "name": "python3"
  },
  "language_info": {
   "codemirror_mode": {
    "name": "ipython",
    "version": 3
   },
   "file_extension": ".py",
   "mimetype": "text/x-python",
   "name": "python",
   "nbconvert_exporter": "python",
   "pygments_lexer": "ipython3",
   "version": "3.10.9"
  }
 },
 "nbformat": 4,
 "nbformat_minor": 5
}
