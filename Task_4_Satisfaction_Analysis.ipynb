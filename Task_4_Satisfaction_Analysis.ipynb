{
 "cells": [
  {
   "cell_type": "code",
   "execution_count": 1,
   "id": "069f8a8d",
   "metadata": {},
   "outputs": [],
   "source": [
    "# import required libraries\n",
    "import warnings\n",
    "warnings.filterwarnings('ignore')\n",
    "import pandas as pd\n",
    "import numpy as np\n",
    "import matplotlib.pyplot as plt\n",
    "import seaborn as sns\n",
    "from sklearn.preprocessing import StandardScaler\n",
    "from sklearn import preprocessing\n",
    "from sklearn.cluster import KMeans\n",
    "from sklearn.linear_model import LinearRegression\n",
    "import pickle"
   ]
  },
  {
   "cell_type": "code",
   "execution_count": 2,
   "id": "03e4dc05",
   "metadata": {},
   "outputs": [],
   "source": [
    "#load Engaged dataframe\n",
    "eng_df = pd.read_csv('eng_df.csv',index_col='MSISDN/Number')"
   ]
  },
  {
   "cell_type": "code",
   "execution_count": 3,
   "id": "8ca2459a",
   "metadata": {},
   "outputs": [],
   "source": [
    "# Load experience df\n",
    "experiance_df = pd.read_csv('experiance_df.csv',index_col='MSISDN/Number')"
   ]
  },
  {
   "cell_type": "code",
   "execution_count": 4,
   "id": "1db71d50",
   "metadata": {},
   "outputs": [
    {
     "data": {
      "text/plain": [
       "(106856, 4)"
      ]
     },
     "execution_count": 4,
     "metadata": {},
     "output_type": "execute_result"
    }
   ],
   "source": [
    "eng_df.shape"
   ]
  },
  {
   "cell_type": "code",
   "execution_count": 5,
   "id": "e3183b2a",
   "metadata": {},
   "outputs": [
    {
     "data": {
      "text/plain": [
       "(106856, 5)"
      ]
     },
     "execution_count": 5,
     "metadata": {},
     "output_type": "execute_result"
    }
   ],
   "source": [
    "experiance_df.shape"
   ]
  },
  {
   "cell_type": "markdown",
   "id": "cca43153",
   "metadata": {},
   "source": [
    "### Task 4 - Satisfaction Analysis"
   ]
  },
  {
   "cell_type": "markdown",
   "id": "02a7137a",
   "metadata": {},
   "source": [
    "1. engagement score to each user. Consider the engagement score as the Euclidean distance between the user data point & the less engaged cluster (use the first clustering for this) \n",
    "\n",
    "2. experience score to each user. Consider the experience score as the Euclidean distance between the user data point & the worst experience’s cluster."
   ]
  },
  {
   "cell_type": "code",
   "execution_count": 6,
   "id": "62e6be68",
   "metadata": {},
   "outputs": [
    {
     "data": {
      "text/plain": [
       "Bearer Id             1.239300e+00\n",
       "Dur. (ms).1           1.145312e+08\n",
       "Total                 6.107454e+08\n",
       "cluster-engagement    0.000000e+00\n",
       "dtype: float64"
      ]
     },
     "execution_count": 6,
     "metadata": {},
     "output_type": "execute_result"
    }
   ],
   "source": [
    "## Engagement Score\n",
    "lowest_engagement = eng_df.groupby('cluster-engagement').get_group(0).mean()\n",
    "lowest_engagement"
   ]
  },
  {
   "cell_type": "code",
   "execution_count": 7,
   "id": "8bb43e02",
   "metadata": {},
   "outputs": [
    {
     "data": {
      "text/html": [
       "<div>\n",
       "<style scoped>\n",
       "    .dataframe tbody tr th:only-of-type {\n",
       "        vertical-align: middle;\n",
       "    }\n",
       "\n",
       "    .dataframe tbody tr th {\n",
       "        vertical-align: top;\n",
       "    }\n",
       "\n",
       "    .dataframe thead th {\n",
       "        text-align: right;\n",
       "    }\n",
       "</style>\n",
       "<table border=\"1\" class=\"dataframe\">\n",
       "  <thead>\n",
       "    <tr style=\"text-align: right;\">\n",
       "      <th></th>\n",
       "      <th>Bearer Id</th>\n",
       "      <th>Dur. (ms).1</th>\n",
       "      <th>Total</th>\n",
       "      <th>cluster-engagement</th>\n",
       "      <th>engagement score</th>\n",
       "    </tr>\n",
       "    <tr>\n",
       "      <th>MSISDN/Number</th>\n",
       "      <th></th>\n",
       "      <th></th>\n",
       "      <th></th>\n",
       "      <th></th>\n",
       "      <th></th>\n",
       "    </tr>\n",
       "  </thead>\n",
       "  <tbody>\n",
       "    <tr>\n",
       "      <th>3.360100e+10</th>\n",
       "      <td>1</td>\n",
       "      <td>116720140</td>\n",
       "      <td>8.786906e+08</td>\n",
       "      <td>0</td>\n",
       "      <td>2.679541e+08</td>\n",
       "    </tr>\n",
       "    <tr>\n",
       "      <th>3.360100e+10</th>\n",
       "      <td>1</td>\n",
       "      <td>181230963</td>\n",
       "      <td>1.568596e+08</td>\n",
       "      <td>0</td>\n",
       "      <td>4.587604e+08</td>\n",
       "    </tr>\n",
       "    <tr>\n",
       "      <th>3.360100e+10</th>\n",
       "      <td>1</td>\n",
       "      <td>134969374</td>\n",
       "      <td>5.959665e+08</td>\n",
       "      <td>0</td>\n",
       "      <td>2.522172e+07</td>\n",
       "    </tr>\n",
       "    <tr>\n",
       "      <th>3.360101e+10</th>\n",
       "      <td>1</td>\n",
       "      <td>49878024</td>\n",
       "      <td>4.223207e+08</td>\n",
       "      <td>0</td>\n",
       "      <td>1.992082e+08</td>\n",
       "    </tr>\n",
       "    <tr>\n",
       "      <th>3.360101e+10</th>\n",
       "      <td>2</td>\n",
       "      <td>37104453</td>\n",
       "      <td>1.457411e+09</td>\n",
       "      <td>0</td>\n",
       "      <td>8.501985e+08</td>\n",
       "    </tr>\n",
       "  </tbody>\n",
       "</table>\n",
       "</div>"
      ],
      "text/plain": [
       "               Bearer Id  Dur. (ms).1         Total  cluster-engagement  \\\n",
       "MSISDN/Number                                                             \n",
       "3.360100e+10           1    116720140  8.786906e+08                   0   \n",
       "3.360100e+10           1    181230963  1.568596e+08                   0   \n",
       "3.360100e+10           1    134969374  5.959665e+08                   0   \n",
       "3.360101e+10           1     49878024  4.223207e+08                   0   \n",
       "3.360101e+10           2     37104453  1.457411e+09                   0   \n",
       "\n",
       "               engagement score  \n",
       "MSISDN/Number                    \n",
       "3.360100e+10       2.679541e+08  \n",
       "3.360100e+10       4.587604e+08  \n",
       "3.360100e+10       2.522172e+07  \n",
       "3.360101e+10       1.992082e+08  \n",
       "3.360101e+10       8.501985e+08  "
      ]
     },
     "execution_count": 7,
     "metadata": {},
     "output_type": "execute_result"
    }
   ],
   "source": [
    "def get_engagement_score(df, lowest):\n",
    "    x = float(lowest['Bearer Id'])\n",
    "    y = float(lowest['Dur. (ms).1'])\n",
    "    z = float(lowest['Total'])\n",
    "    new_df = df.copy()\n",
    "    new_df['engagement score'] = ((df['Bearer Id'] - x)**2 + (df['Dur. (ms).1'] - y)**2 + (df['Total'] - z)**2)**0.5\n",
    "    return new_df\n",
    "engagement_scored_df = get_engagement_score(eng_df, lowest_engagement)\n",
    "engagement_scored_df.head()"
   ]
  },
  {
   "cell_type": "code",
   "execution_count": 8,
   "id": "103954d7",
   "metadata": {},
   "outputs": [
    {
     "data": {
      "text/plain": [
       "Total TCP Retrans     5.956913e+06\n",
       "Total Throughput      3.654432e+04\n",
       "Total RTT             1.509119e+02\n",
       "cluster-experiance    0.000000e+00\n",
       "dtype: float64"
      ]
     },
     "execution_count": 8,
     "metadata": {},
     "output_type": "execute_result"
    }
   ],
   "source": [
    "lowest_experiance = experiance_df.select_dtypes(exclude='object').groupby('cluster-experiance').get_group(0).mean()\n",
    "lowest_experiance"
   ]
  },
  {
   "cell_type": "code",
   "execution_count": 9,
   "id": "29df3c2f",
   "metadata": {},
   "outputs": [
    {
     "data": {
      "text/html": [
       "<div>\n",
       "<style scoped>\n",
       "    .dataframe tbody tr th:only-of-type {\n",
       "        vertical-align: middle;\n",
       "    }\n",
       "\n",
       "    .dataframe tbody tr th {\n",
       "        vertical-align: top;\n",
       "    }\n",
       "\n",
       "    .dataframe thead th {\n",
       "        text-align: right;\n",
       "    }\n",
       "</style>\n",
       "<table border=\"1\" class=\"dataframe\">\n",
       "  <thead>\n",
       "    <tr style=\"text-align: right;\">\n",
       "      <th></th>\n",
       "      <th>Handset Type</th>\n",
       "      <th>Total TCP Retrans</th>\n",
       "      <th>Total Throughput</th>\n",
       "      <th>Total RTT</th>\n",
       "      <th>cluster-experiance</th>\n",
       "      <th>experience score</th>\n",
       "    </tr>\n",
       "    <tr>\n",
       "      <th>MSISDN/Number</th>\n",
       "      <th></th>\n",
       "      <th></th>\n",
       "      <th></th>\n",
       "      <th></th>\n",
       "      <th></th>\n",
       "      <th></th>\n",
       "    </tr>\n",
       "  </thead>\n",
       "  <tbody>\n",
       "    <tr>\n",
       "      <th>3.360100e+10</th>\n",
       "      <td>Huawei P20 Lite Huawei Nova 3E</td>\n",
       "      <td>2660.0</td>\n",
       "      <td>74.0</td>\n",
       "      <td>46.0</td>\n",
       "      <td>0</td>\n",
       "      <td>5.954364e+06</td>\n",
       "    </tr>\n",
       "    <tr>\n",
       "      <th>3.360100e+10</th>\n",
       "      <td>Apple iPhone 7 (A1778)</td>\n",
       "      <td>2660.0</td>\n",
       "      <td>96.0</td>\n",
       "      <td>31.0</td>\n",
       "      <td>0</td>\n",
       "      <td>5.954364e+06</td>\n",
       "    </tr>\n",
       "    <tr>\n",
       "      <th>3.360100e+10</th>\n",
       "      <td>undefined</td>\n",
       "      <td>2660.0</td>\n",
       "      <td>96.0</td>\n",
       "      <td>33.0</td>\n",
       "      <td>0</td>\n",
       "      <td>5.954364e+06</td>\n",
       "    </tr>\n",
       "    <tr>\n",
       "      <th>3.360101e+10</th>\n",
       "      <td>Apple iPhone 5S (A1457)</td>\n",
       "      <td>2396.0</td>\n",
       "      <td>408.0</td>\n",
       "      <td>84.0</td>\n",
       "      <td>0</td>\n",
       "      <td>5.954626e+06</td>\n",
       "    </tr>\n",
       "    <tr>\n",
       "      <th>3.360101e+10</th>\n",
       "      <td>Apple iPhone Se (A1723)</td>\n",
       "      <td>9373492.0</td>\n",
       "      <td>80790.0</td>\n",
       "      <td>119.0</td>\n",
       "      <td>0</td>\n",
       "      <td>3.416866e+06</td>\n",
       "    </tr>\n",
       "  </tbody>\n",
       "</table>\n",
       "</div>"
      ],
      "text/plain": [
       "                                 Handset Type  Total TCP Retrans  \\\n",
       "MSISDN/Number                                                      \n",
       "3.360100e+10   Huawei P20 Lite Huawei Nova 3E             2660.0   \n",
       "3.360100e+10           Apple iPhone 7 (A1778)             2660.0   \n",
       "3.360100e+10                        undefined             2660.0   \n",
       "3.360101e+10          Apple iPhone 5S (A1457)             2396.0   \n",
       "3.360101e+10          Apple iPhone Se (A1723)          9373492.0   \n",
       "\n",
       "               Total Throughput  Total RTT  cluster-experiance  \\\n",
       "MSISDN/Number                                                    \n",
       "3.360100e+10               74.0       46.0                   0   \n",
       "3.360100e+10               96.0       31.0                   0   \n",
       "3.360100e+10               96.0       33.0                   0   \n",
       "3.360101e+10              408.0       84.0                   0   \n",
       "3.360101e+10            80790.0      119.0                   0   \n",
       "\n",
       "               experience score  \n",
       "MSISDN/Number                    \n",
       "3.360100e+10       5.954364e+06  \n",
       "3.360100e+10       5.954364e+06  \n",
       "3.360100e+10       5.954364e+06  \n",
       "3.360101e+10       5.954626e+06  \n",
       "3.360101e+10       3.416866e+06  "
      ]
     },
     "execution_count": 9,
     "metadata": {},
     "output_type": "execute_result"
    }
   ],
   "source": [
    "def get_experiance_score(df, low):\n",
    "    x = float(low['Total RTT'])\n",
    "    y = float(low['Total TCP Retrans'])\n",
    "    z = float(low['Total Throughput'])\n",
    "    new_df = df.copy()\n",
    "    new_df['experience score'] = ((df['Total RTT'] - x)**2 + (df['Total TCP Retrans'] - y)**2 \\\n",
    "                              + (df['Total Throughput'] - z)**2 )**0.5\n",
    "    return new_df\n",
    "experiance_scored_df = get_experiance_score(experiance_df, lowest_experiance)\n",
    "experiance_scored_df.head()"
   ]
  },
  {
   "cell_type": "markdown",
   "id": "5ef25024",
   "metadata": {},
   "source": [
    "#### Task 4.2 - Consider the average of both engagement & experience scores as the satisfaction score & report the top 10 satisfied customer"
   ]
  },
  {
   "cell_type": "code",
   "execution_count": 10,
   "id": "c1699b91",
   "metadata": {},
   "outputs": [],
   "source": [
    "satisfaction_df = pd.merge(engagement_scored_df[\"engagement score\"], experiance_scored_df['experience score'], on='MSISDN/Number')\n",
    "satisfaction_df['satisfaction score'] = (satisfaction_df['engagement score'] + satisfaction_df['experience score']) / 2"
   ]
  },
  {
   "cell_type": "code",
   "execution_count": 11,
   "id": "34d98665",
   "metadata": {},
   "outputs": [
    {
     "data": {
      "text/html": [
       "<div>\n",
       "<style scoped>\n",
       "    .dataframe tbody tr th:only-of-type {\n",
       "        vertical-align: middle;\n",
       "    }\n",
       "\n",
       "    .dataframe tbody tr th {\n",
       "        vertical-align: top;\n",
       "    }\n",
       "\n",
       "    .dataframe thead th {\n",
       "        text-align: right;\n",
       "    }\n",
       "</style>\n",
       "<table border=\"1\" class=\"dataframe\">\n",
       "  <thead>\n",
       "    <tr style=\"text-align: right;\">\n",
       "      <th></th>\n",
       "      <th>engagement score</th>\n",
       "      <th>experience score</th>\n",
       "      <th>satisfaction score</th>\n",
       "    </tr>\n",
       "    <tr>\n",
       "      <th>MSISDN/Number</th>\n",
       "      <th></th>\n",
       "      <th></th>\n",
       "      <th></th>\n",
       "    </tr>\n",
       "  </thead>\n",
       "  <tbody>\n",
       "    <tr>\n",
       "      <th>3.362632e+10</th>\n",
       "      <td>5.444797e+11</td>\n",
       "      <td>1.046982e+10</td>\n",
       "      <td>2.774748e+11</td>\n",
       "    </tr>\n",
       "    <tr>\n",
       "      <th>3.362578e+10</th>\n",
       "      <td>2.005591e+10</td>\n",
       "      <td>5.621638e+06</td>\n",
       "      <td>1.003077e+10</td>\n",
       "    </tr>\n",
       "    <tr>\n",
       "      <th>3.361489e+10</th>\n",
       "      <td>1.284104e+10</td>\n",
       "      <td>2.581316e+06</td>\n",
       "      <td>6.421813e+09</td>\n",
       "    </tr>\n",
       "    <tr>\n",
       "      <th>3.376054e+10</th>\n",
       "      <td>1.210245e+10</td>\n",
       "      <td>2.858253e+07</td>\n",
       "      <td>6.065515e+09</td>\n",
       "    </tr>\n",
       "    <tr>\n",
       "      <th>3.366716e+10</th>\n",
       "      <td>9.977985e+09</td>\n",
       "      <td>3.353525e+06</td>\n",
       "      <td>4.990669e+09</td>\n",
       "    </tr>\n",
       "    <tr>\n",
       "      <th>3.366773e+10</th>\n",
       "      <td>1.626035e+09</td>\n",
       "      <td>8.348252e+09</td>\n",
       "      <td>4.987144e+09</td>\n",
       "    </tr>\n",
       "    <tr>\n",
       "      <th>3.365908e+10</th>\n",
       "      <td>1.052080e+09</td>\n",
       "      <td>7.935903e+09</td>\n",
       "      <td>4.493992e+09</td>\n",
       "    </tr>\n",
       "    <tr>\n",
       "      <th>3.366098e+10</th>\n",
       "      <td>1.590823e+09</td>\n",
       "      <td>7.368183e+09</td>\n",
       "      <td>4.479503e+09</td>\n",
       "    </tr>\n",
       "    <tr>\n",
       "      <th>3.367588e+10</th>\n",
       "      <td>8.693661e+09</td>\n",
       "      <td>3.199662e+07</td>\n",
       "      <td>4.362829e+09</td>\n",
       "    </tr>\n",
       "    <tr>\n",
       "      <th>3.376264e+10</th>\n",
       "      <td>2.671128e+09</td>\n",
       "      <td>5.874032e+09</td>\n",
       "      <td>4.272580e+09</td>\n",
       "    </tr>\n",
       "  </tbody>\n",
       "</table>\n",
       "</div>"
      ],
      "text/plain": [
       "               engagement score  experience score  satisfaction score\n",
       "MSISDN/Number                                                        \n",
       "3.362632e+10       5.444797e+11      1.046982e+10        2.774748e+11\n",
       "3.362578e+10       2.005591e+10      5.621638e+06        1.003077e+10\n",
       "3.361489e+10       1.284104e+10      2.581316e+06        6.421813e+09\n",
       "3.376054e+10       1.210245e+10      2.858253e+07        6.065515e+09\n",
       "3.366716e+10       9.977985e+09      3.353525e+06        4.990669e+09\n",
       "3.366773e+10       1.626035e+09      8.348252e+09        4.987144e+09\n",
       "3.365908e+10       1.052080e+09      7.935903e+09        4.493992e+09\n",
       "3.366098e+10       1.590823e+09      7.368183e+09        4.479503e+09\n",
       "3.367588e+10       8.693661e+09      3.199662e+07        4.362829e+09\n",
       "3.376264e+10       2.671128e+09      5.874032e+09        4.272580e+09"
      ]
     },
     "execution_count": 11,
     "metadata": {},
     "output_type": "execute_result"
    }
   ],
   "source": [
    "satisfaction_df.sort_values(by='satisfaction score', ascending=False).head(10)"
   ]
  },
  {
   "cell_type": "markdown",
   "id": "f9737118",
   "metadata": {},
   "source": [
    "#### Task 4.3 - Build a regression model of your choice to predict the satisfaction score of a customer."
   ]
  },
  {
   "cell_type": "code",
   "execution_count": 12,
   "id": "44e39883",
   "metadata": {},
   "outputs": [
    {
     "data": {
      "text/html": [
       "<div>\n",
       "<style scoped>\n",
       "    .dataframe tbody tr th:only-of-type {\n",
       "        vertical-align: middle;\n",
       "    }\n",
       "\n",
       "    .dataframe tbody tr th {\n",
       "        vertical-align: top;\n",
       "    }\n",
       "\n",
       "    .dataframe thead th {\n",
       "        text-align: right;\n",
       "    }\n",
       "</style>\n",
       "<table border=\"1\" class=\"dataframe\">\n",
       "  <thead>\n",
       "    <tr style=\"text-align: right;\">\n",
       "      <th></th>\n",
       "      <th>Bearer Id</th>\n",
       "      <th>Dur. (ms).1</th>\n",
       "      <th>Total</th>\n",
       "      <th>Total RTT</th>\n",
       "      <th>Total TCP Retrans</th>\n",
       "      <th>Total Throughput</th>\n",
       "      <th>satisfaction score</th>\n",
       "    </tr>\n",
       "    <tr>\n",
       "      <th>MSISDN/Number</th>\n",
       "      <th></th>\n",
       "      <th></th>\n",
       "      <th></th>\n",
       "      <th></th>\n",
       "      <th></th>\n",
       "      <th></th>\n",
       "      <th></th>\n",
       "    </tr>\n",
       "  </thead>\n",
       "  <tbody>\n",
       "    <tr>\n",
       "      <th>3.360100e+10</th>\n",
       "      <td>1</td>\n",
       "      <td>116720140</td>\n",
       "      <td>8.786906e+08</td>\n",
       "      <td>46.0</td>\n",
       "      <td>2660.0</td>\n",
       "      <td>74.0</td>\n",
       "      <td>1.369542e+08</td>\n",
       "    </tr>\n",
       "    <tr>\n",
       "      <th>3.360100e+10</th>\n",
       "      <td>1</td>\n",
       "      <td>181230963</td>\n",
       "      <td>1.568596e+08</td>\n",
       "      <td>31.0</td>\n",
       "      <td>2660.0</td>\n",
       "      <td>96.0</td>\n",
       "      <td>2.323574e+08</td>\n",
       "    </tr>\n",
       "    <tr>\n",
       "      <th>3.360100e+10</th>\n",
       "      <td>1</td>\n",
       "      <td>134969374</td>\n",
       "      <td>5.959665e+08</td>\n",
       "      <td>33.0</td>\n",
       "      <td>2660.0</td>\n",
       "      <td>96.0</td>\n",
       "      <td>1.558804e+07</td>\n",
       "    </tr>\n",
       "    <tr>\n",
       "      <th>3.360101e+10</th>\n",
       "      <td>1</td>\n",
       "      <td>49878024</td>\n",
       "      <td>4.223207e+08</td>\n",
       "      <td>84.0</td>\n",
       "      <td>2396.0</td>\n",
       "      <td>408.0</td>\n",
       "      <td>1.025814e+08</td>\n",
       "    </tr>\n",
       "    <tr>\n",
       "      <th>3.360101e+10</th>\n",
       "      <td>2</td>\n",
       "      <td>37104453</td>\n",
       "      <td>1.457411e+09</td>\n",
       "      <td>119.0</td>\n",
       "      <td>9373492.0</td>\n",
       "      <td>80790.0</td>\n",
       "      <td>4.268077e+08</td>\n",
       "    </tr>\n",
       "  </tbody>\n",
       "</table>\n",
       "</div>"
      ],
      "text/plain": [
       "               Bearer Id  Dur. (ms).1         Total  Total RTT  \\\n",
       "MSISDN/Number                                                    \n",
       "3.360100e+10           1    116720140  8.786906e+08       46.0   \n",
       "3.360100e+10           1    181230963  1.568596e+08       31.0   \n",
       "3.360100e+10           1    134969374  5.959665e+08       33.0   \n",
       "3.360101e+10           1     49878024  4.223207e+08       84.0   \n",
       "3.360101e+10           2     37104453  1.457411e+09      119.0   \n",
       "\n",
       "               Total TCP Retrans  Total Throughput  satisfaction score  \n",
       "MSISDN/Number                                                           \n",
       "3.360100e+10              2660.0              74.0        1.369542e+08  \n",
       "3.360100e+10              2660.0              96.0        2.323574e+08  \n",
       "3.360100e+10              2660.0              96.0        1.558804e+07  \n",
       "3.360101e+10              2396.0             408.0        1.025814e+08  \n",
       "3.360101e+10           9373492.0           80790.0        4.268077e+08  "
      ]
     },
     "execution_count": 12,
     "metadata": {},
     "output_type": "execute_result"
    }
   ],
   "source": [
    "regretion_df = pd.merge(eng_df[['Bearer Id', 'Dur. (ms).1', 'Total']],\\\n",
    "                        experiance_df[['Total RTT','Total TCP Retrans', 'Total Throughput']],\\\n",
    "                       on='MSISDN/Number')\n",
    "regretion_df = pd.merge(regretion_df,satisfaction_df['satisfaction score'], on='MSISDN/Number' )\n",
    "regretion_df.head()"
   ]
  },
  {
   "cell_type": "code",
   "execution_count": 26,
   "id": "e3abbd9a",
   "metadata": {},
   "outputs": [
    {
     "data": {
      "text/plain": [
       "(106853, 6)"
      ]
     },
     "execution_count": 26,
     "metadata": {},
     "output_type": "execute_result"
    }
   ],
   "source": [
    "X = regretion_df[['Bearer Id', 'Dur. (ms).1', 'Total','Total RTT','Total TCP Retrans', 'Total Throughput']].values\n",
    "X = StandardScaler().fit_transform(X)\n",
    "X.shape"
   ]
  },
  {
   "cell_type": "code",
   "execution_count": 27,
   "id": "9fbe10ab",
   "metadata": {},
   "outputs": [
    {
     "data": {
      "text/plain": [
       "(106853, 1)"
      ]
     },
     "execution_count": 27,
     "metadata": {},
     "output_type": "execute_result"
    }
   ],
   "source": [
    "y = regretion_df[['satisfaction score']].values\n",
    "y = StandardScaler().fit_transform(y)\n",
    "y.shape"
   ]
  },
  {
   "cell_type": "code",
   "execution_count": 28,
   "id": "87248470",
   "metadata": {},
   "outputs": [
    {
     "data": {
      "text/plain": [
       "0.9810735481703408"
      ]
     },
     "execution_count": 28,
     "metadata": {},
     "output_type": "execute_result"
    }
   ],
   "source": [
    "model = LinearRegression().fit(X, y)\n",
    "model.score(X, y)"
   ]
  },
  {
   "cell_type": "markdown",
   "id": "beaecc2b",
   "metadata": {},
   "source": [
    "### Dump the model by pickle"
   ]
  },
  {
   "cell_type": "code",
   "execution_count": 17,
   "id": "b07f8922",
   "metadata": {},
   "outputs": [],
   "source": [
    "pickle.dump(model,open('Telecom_satisfaction_model.sav','wb'))"
   ]
  },
  {
   "cell_type": "markdown",
   "id": "62244ee6",
   "metadata": {},
   "source": [
    "#### Task 4.4 - Run a k-means (k=2) on the engagement & the experience score ."
   ]
  },
  {
   "cell_type": "code",
   "execution_count": 16,
   "id": "cc9b27d9",
   "metadata": {},
   "outputs": [],
   "source": [
    "eng_exp_df = satisfaction_df[['engagement score', 'experience score']]"
   ]
  },
  {
   "cell_type": "code",
   "execution_count": 17,
   "id": "2dc44bd0",
   "metadata": {},
   "outputs": [],
   "source": [
    "min_max_scaler = preprocessing.MinMaxScaler()\n",
    "eng_exp_values = eng_exp_df.values\n",
    "\n",
    "scalled_values = min_max_scaler.fit_transform(eng_exp_values)\n",
    "eng_exp_normalized = pd.DataFrame(data=scalled_values, columns=eng_exp_df.columns)\n",
    "\n",
    "\n",
    "kmeans = KMeans(n_clusters=2).fit(eng_exp_normalized)"
   ]
  },
  {
   "cell_type": "markdown",
   "id": "6d343b86",
   "metadata": {},
   "source": [
    "#### Task 4.5 - Aggregate the average satisfaction & experience score per cluster."
   ]
  },
  {
   "cell_type": "code",
   "execution_count": 18,
   "id": "e862c6e7",
   "metadata": {},
   "outputs": [
    {
     "data": {
      "text/plain": [
       "clusters\n",
       "0    106624\n",
       "1       229\n",
       "Name: count, dtype: int64"
      ]
     },
     "execution_count": 18,
     "metadata": {},
     "output_type": "execute_result"
    }
   ],
   "source": [
    "eng_exp_df['clusters'] = kmeans.labels_\n",
    "eng_exp_df['clusters'].value_counts()"
   ]
  },
  {
   "cell_type": "code",
   "execution_count": 19,
   "id": "32249a07",
   "metadata": {},
   "outputs": [
    {
     "data": {
      "text/html": [
       "<div>\n",
       "<style scoped>\n",
       "    .dataframe tbody tr th:only-of-type {\n",
       "        vertical-align: middle;\n",
       "    }\n",
       "\n",
       "    .dataframe tbody tr th {\n",
       "        vertical-align: top;\n",
       "    }\n",
       "\n",
       "    .dataframe thead th {\n",
       "        text-align: right;\n",
       "    }\n",
       "</style>\n",
       "<table border=\"1\" class=\"dataframe\">\n",
       "  <thead>\n",
       "    <tr style=\"text-align: right;\">\n",
       "      <th></th>\n",
       "      <th>engagement score</th>\n",
       "      <th>experience score</th>\n",
       "    </tr>\n",
       "    <tr>\n",
       "      <th>clusters</th>\n",
       "      <th></th>\n",
       "      <th></th>\n",
       "    </tr>\n",
       "  </thead>\n",
       "  <tbody>\n",
       "    <tr>\n",
       "      <th>0</th>\n",
       "      <td>3.591119e+08</td>\n",
       "      <td>1.023420e+07</td>\n",
       "    </tr>\n",
       "    <tr>\n",
       "      <th>1</th>\n",
       "      <td>3.109622e+09</td>\n",
       "      <td>2.986994e+09</td>\n",
       "    </tr>\n",
       "  </tbody>\n",
       "</table>\n",
       "</div>"
      ],
      "text/plain": [
       "          engagement score  experience score\n",
       "clusters                                    \n",
       "0             3.591119e+08      1.023420e+07\n",
       "1             3.109622e+09      2.986994e+09"
      ]
     },
     "execution_count": 19,
     "metadata": {},
     "output_type": "execute_result"
    }
   ],
   "source": [
    "result = eng_exp_df.groupby('clusters').mean()\n",
    "result"
   ]
  },
  {
   "cell_type": "code",
   "execution_count": 20,
   "id": "23c4cb75",
   "metadata": {},
   "outputs": [],
   "source": [
    "satisfaction_df = satisfaction_df.reset_index()\n",
    "satisfaction_df.head()\n",
    "satisfaction_df.to_csv('Telecom_User_Satisfaction.csv')"
   ]
  },
  {
   "cell_type": "code",
   "execution_count": null,
   "id": "b53320d2",
   "metadata": {},
   "outputs": [],
   "source": []
  }
 ],
 "metadata": {
  "kernelspec": {
   "display_name": "Python 3 (ipykernel)",
   "language": "python",
   "name": "python3"
  },
  "language_info": {
   "codemirror_mode": {
    "name": "ipython",
    "version": 3
   },
   "file_extension": ".py",
   "mimetype": "text/x-python",
   "name": "python",
   "nbconvert_exporter": "python",
   "pygments_lexer": "ipython3",
   "version": "3.10.9"
  }
 },
 "nbformat": 4,
 "nbformat_minor": 5
}
